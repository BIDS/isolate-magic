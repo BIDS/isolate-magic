{
 "metadata": {
  "name": "",
  "signature": "sha256:49c4769b040aa81e467a79c3aac4bbdaf33f5db50776db4b6e6540f767809deb"
 },
 "nbformat": 3,
 "nbformat_minor": 0,
 "worksheets": [
  {
   "cells": [
    {
     "cell_type": "markdown",
     "metadata": {},
     "source": [
      "Automatic dependency tracking"
     ]
    },
    {
     "cell_type": "code",
     "collapsed": false,
     "input": [
      "%%isolate name(Init1)\n",
      "a1 = 10\n",
      "b1 = 20\n",
      "c = 30\n",
      "d = 90"
     ],
     "language": "python",
     "metadata": {},
     "outputs": [],
     "prompt_number": 38
    },
    {
     "cell_type": "code",
     "collapsed": false,
     "input": [
      "%%isolate name(Init2)\n",
      "d = 40\n",
      "e = 50"
     ],
     "language": "python",
     "metadata": {},
     "outputs": [],
     "prompt_number": 39
    },
    {
     "cell_type": "code",
     "collapsed": false,
     "input": [
      "%%isolate name(Process1)\n",
      "print a1, d"
     ],
     "language": "python",
     "metadata": {},
     "outputs": [
      {
       "output_type": "stream",
       "stream": "stdout",
       "text": [
        "10 40\n"
       ]
      }
     ],
     "prompt_number": 40
    },
    {
     "cell_type": "code",
     "collapsed": false,
     "input": [
      "%%isolate name(Process2)\n",
      "print b1, c, e"
     ],
     "language": "python",
     "metadata": {},
     "outputs": [
      {
       "output_type": "stream",
       "stream": "stdout",
       "text": [
        "20 30 50\n"
       ]
      }
     ],
     "prompt_number": 41
    },
    {
     "cell_type": "code",
     "collapsed": false,
     "input": [
      "g = %dag"
     ],
     "language": "python",
     "metadata": {},
     "outputs": [],
     "prompt_number": 42
    },
    {
     "cell_type": "code",
     "collapsed": false,
     "input": [
      "i = %iso_debug"
     ],
     "language": "python",
     "metadata": {},
     "outputs": [],
     "prompt_number": 43
    },
    {
     "cell_type": "code",
     "collapsed": false,
     "input": [
      "g"
     ],
     "language": "python",
     "metadata": {},
     "outputs": [
      {
       "metadata": {},
       "output_type": "pyout",
       "prompt_number": 44,
       "svg": [
        "<svg baseProfile=\"full\" height=\"400px\" preserveAspectRatio=\"xMidYMid meet\" version=\"1.1\" viewBox=\"0,0,1000.0,1000.0\" width=\"400px\" xmlns=\"http://www.w3.org/2000/svg\" xmlns:ev=\"http://www.w3.org/2001/xml-events\" xmlns:xlink=\"http://www.w3.org/1999/xlink\"><defs><marker id=\"id5\" markerHeight=\"20\" markerUnits=\"strokeWidth\" markerWidth=\"20\" orient=\"auto\" refX=\"1.0\" refY=\"0.5\" viewBox=\"0,0,1,1\"><polygon fill=\"black\" points=\"0,0.2 1,0.5 0,0.8\" stroke=\"none\" /></marker></defs><g><rect fill=\"none\" height=\"60.0\" rx=\"20.0\" ry=\"20.0\" stroke=\"black\" stroke-width=\"1px\" width=\"420.0\" x=\"509.880638459\" y=\"10.0\" /><text font-family=\"monospace\" font-size=\"20.0\" text-anchor=\"middle\" transform=\"translate(0,-10.0)\" x=\"719.880638459\" y=\"40.0\"><tspan font-family=\"monospace\" font-size=\"20.0\" font-weight=\"bold\" text-anchor=\"middle\" x=\"719.880638459\" y=\"40.0\">Init1 </tspan><tspan font-family=\"monospace\" font-size=\"20.0\" font-weight=\"normal\" text-anchor=\"middle\" x=\"719.880638459\" y=\"70.0\">38[1, 11, 20, 29, 38]</tspan></text></g><g><rect fill=\"none\" height=\"60.0\" rx=\"20.0\" ry=\"20.0\" stroke=\"black\" stroke-width=\"1px\" width=\"420.0\" x=\"490.14601438\" y=\"930.0\" /><text font-family=\"monospace\" font-size=\"20.0\" text-anchor=\"middle\" transform=\"translate(0,-10.0)\" x=\"700.14601438\" y=\"960.0\"><tspan font-family=\"monospace\" font-size=\"20.0\" font-weight=\"bold\" text-anchor=\"middle\" x=\"700.14601438\" y=\"960.0\">Init2 </tspan><tspan font-family=\"monospace\" font-size=\"20.0\" font-weight=\"normal\" text-anchor=\"middle\" x=\"700.14601438\" y=\"990.0\">39[2, 12, 21, 30, 39]</tspan></text></g><g><rect fill=\"none\" height=\"60.0\" rx=\"20.0\" ry=\"20.0\" stroke=\"black\" stroke-width=\"1px\" width=\"420.0\" x=\"10.0\" y=\"496.094936426\" /><text font-family=\"monospace\" font-size=\"20.0\" text-anchor=\"middle\" transform=\"translate(0,-10.0)\" x=\"220.0\" y=\"526.094936426\"><tspan font-family=\"monospace\" font-size=\"20.0\" font-weight=\"bold\" text-anchor=\"middle\" x=\"220.0\" y=\"526.094936426\">Process1 </tspan><tspan font-family=\"monospace\" font-size=\"20.0\" font-weight=\"normal\" text-anchor=\"middle\" x=\"220.0\" y=\"556.094936426\">40[3, 13, 22, 31, 40]</tspan></text></g><g><rect fill=\"none\" height=\"60.0\" rx=\"20.0\" ry=\"20.0\" stroke=\"black\" stroke-width=\"1px\" width=\"420.0\" x=\"570.0\" y=\"505.255616889\" /><text font-family=\"monospace\" font-size=\"20.0\" text-anchor=\"middle\" transform=\"translate(0,-10.0)\" x=\"780.0\" y=\"535.255616889\"><tspan font-family=\"monospace\" font-size=\"20.0\" font-weight=\"bold\" text-anchor=\"middle\" x=\"780.0\" y=\"535.255616889\">Process2 </tspan><tspan font-family=\"monospace\" font-size=\"20.0\" font-weight=\"normal\" text-anchor=\"middle\" x=\"780.0\" y=\"565.255616889\">41[4, 14, 23, 32, 41]</tspan></text></g><g><path d=\"M 719.880638459 70.0 Q 647.410478844 184.023734106 574.940319229 298.047468213 Q 502.470159615 412.071202319 430.0 526.094936426\" fill=\"none\" marker-mid=\"url(#id5)\" stroke=\"black\" stroke-width=\"1px\" /><text font-family=\"monospace\" font-size=\"20.0\" text-anchor=\"middle\" transform=\"rotate(302.438849257,574.940319229,298.047468213) translate(0,-10.0)\" x=\"574.940319229\" y=\"298.047468213\"><tspan font-family=\"monospace\" font-size=\"20.0\" font-weight=\"bold\" text-anchor=\"middle\" x=\"574.940319229\" y=\"298.047468213\">a1</tspan></text></g><g><path d=\"M 719.880638459 70.0 Q 734.910478844 178.813904222 749.940319229 287.627808445 Q 764.970159615 396.441712667 780.0 505.255616889\" fill=\"none\" marker-mid=\"url(#id5)\" stroke=\"black\" stroke-width=\"1px\" /><text font-family=\"monospace\" font-size=\"20.0\" text-anchor=\"middle\" transform=\"rotate(262.135822469,749.940319229,287.627808445) translate(0,-10.0)\" x=\"749.940319229\" y=\"287.627808445\"><tspan font-family=\"monospace\" font-size=\"20.0\" font-weight=\"bold\" text-anchor=\"middle\" x=\"749.940319229\" y=\"287.627808445\">c, b1</tspan></text></g><g><path d=\"M 490.14601438 960.0 Q 475.109510785 851.523734106 460.07300719 743.047468213 Q 445.036503595 634.571202319 430.0 526.094936426\" fill=\"none\" marker-mid=\"url(#id5)\" stroke=\"black\" stroke-width=\"1px\" /><text font-family=\"monospace\" font-size=\"20.0\" text-anchor=\"middle\" transform=\"rotate(82.1081993617,460.07300719,743.047468213) translate(0,-10.0)\" x=\"460.07300719\" y=\"743.047468213\"><tspan font-family=\"monospace\" font-size=\"20.0\" font-weight=\"bold\" text-anchor=\"middle\" x=\"460.07300719\" y=\"743.047468213\">d</tspan></text></g><g><path d=\"M 700.14601438 930.0 Q 720.109510785 838.813904222 740.07300719 747.627808445 Q 760.036503595 656.441712667 780.0 565.255616889\" fill=\"none\" marker-mid=\"url(#id5)\" stroke=\"black\" stroke-width=\"1px\" /><text font-family=\"monospace\" font-size=\"20.0\" text-anchor=\"middle\" transform=\"rotate(102.349003805,740.07300719,747.627808445) translate(0,-10.0)\" x=\"740.07300719\" y=\"747.627808445\"><tspan font-family=\"monospace\" font-size=\"20.0\" font-weight=\"bold\" text-anchor=\"middle\" x=\"740.07300719\" y=\"747.627808445\">e</tspan></text></g></svg>"
       ],
       "text": [
        "<networkx.classes.digraph.DiGraph at 0x7f5bd8499a90>"
       ]
      }
     ],
     "prompt_number": 44
    },
    {
     "cell_type": "code",
     "collapsed": false,
     "input": [
      "%history"
     ],
     "language": "python",
     "metadata": {},
     "outputs": [
      {
       "output_type": "stream",
       "stream": "stdout",
       "text": [
        "%%isolate name(Init1)  post(a1,c,b1,d)\n",
        "a1 = 10\n",
        "b1 = 20\n",
        "c = 30\n",
        "d = 90\n",
        "%%isolate name(Init2)  post(e,d)\n",
        "d = 40\n",
        "e = 50\n",
        "%%isolate name(Process1) pre(a1,d) \n",
        "print a1, d\n",
        "%%isolate name(Process2) pre(c,e,b1) \n",
        "print b1, c, e\n",
        "g = %dag\n",
        "i = %iso_debug\n",
        "i.AugmentedHistory\n",
        "%history\n",
        "import IPython\n",
        "ip = IPython.get_ipython()\n",
        "ip.history_manager.input_hist_raw[28]\n",
        "g\n",
        "%%isolate name(Init1)  post(a1,c,b1,d)\n",
        "a1 = 10\n",
        "b1 = 20\n",
        "c = 30\n",
        "d = 90\n",
        "%%isolate name(Init2)  post(e,d)\n",
        "d = 40\n",
        "e = 50\n",
        "%%isolate name(Process1) pre(a1,d) \n",
        "print a1, d\n",
        "%%isolate name(Process2) pre(c,e,b1) \n",
        "print b1, c, e\n",
        "g = %dag\n",
        "i = %iso_debug\n",
        "g\n",
        "%history\n",
        "import IPython\n",
        "ip = IPython.get_ipython()\n",
        "ip.history_manager.input_hist_raw[28]\n",
        "%%isolate name(Init1)  post(a1,c,b1,d)\n",
        "a1 = 10\n",
        "b1 = 20\n",
        "c = 30\n",
        "d = 90\n",
        "%%isolate name(Init2)  post(e,d)\n",
        "d = 40\n",
        "e = 50\n",
        "%%isolate name(Process1) pre(a1,d) \n",
        "print a1, d\n",
        "%%isolate name(Process2) pre(c,e,b1) \n",
        "print b1, c, e\n",
        "g = %dag\n",
        "i = %iso_debug\n",
        "g\n",
        "%history\n",
        "import IPython\n",
        "ip = IPython.get_ipython()\n",
        "ip.history_manager.input_hist_raw[28]\n",
        "%%isolate name(Init1)  post(a1,c,b1,d)\n",
        "a1 = 10\n",
        "b1 = 20\n",
        "c = 30\n",
        "d = 90\n",
        "%%isolate name(Init2)  post(e,d)\n",
        "d = 40\n",
        "e = 50\n",
        "%%isolate name(Process1) pre(a1,d) \n",
        "print a1, d\n",
        "%%isolate name(Process2) pre(c,e,b1) \n",
        "print b1, c, e\n",
        "g = %dag\n",
        "i = %iso_debug\n",
        "g\n",
        "%history\n",
        "import IPython\n",
        "ip = IPython.get_ipython()\n",
        "ip.history_manager.input_hist_raw[28]\n",
        "%%isolate name(Init1)  post(a1,c,b1,d)\n",
        "a1 = 10\n",
        "b1 = 20\n",
        "c = 30\n",
        "d = 90\n",
        "%%isolate name(Init2)  post(e,d)\n",
        "d = 40\n",
        "e = 50\n",
        "%%isolate name(Process1) pre(a1,d) \n",
        "print a1, d\n",
        "%%isolate name(Process2) pre(c,e,b1) \n",
        "print b1, c, e\n",
        "g = %dag\n",
        "i = %iso_debug\n",
        "g\n",
        "%history\n"
       ]
      }
     ],
     "prompt_number": 45
    },
    {
     "cell_type": "code",
     "collapsed": false,
     "input": [
      "import IPython\n",
      "ip = IPython.get_ipython()\n",
      "ip.history_manager.input_hist_raw[28]"
     ],
     "language": "python",
     "metadata": {},
     "outputs": [
      {
       "metadata": {},
       "output_type": "pyout",
       "prompt_number": 46,
       "text": [
        "u'import IPython\\nip = IPython.get_ipython()\\nip.history_manager.input_hist_raw[28]'"
       ]
      }
     ],
     "prompt_number": 46
    },
    {
     "cell_type": "code",
     "collapsed": false,
     "input": [],
     "language": "python",
     "metadata": {},
     "outputs": [],
     "prompt_number": 46
    }
   ],
   "metadata": {}
  }
 ]
}