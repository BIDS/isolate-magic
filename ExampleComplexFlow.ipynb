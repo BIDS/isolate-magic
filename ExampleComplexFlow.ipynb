{
 "metadata": {
  "name": "",
  "signature": "sha256:e404a3d2cf0003a5b49a2435cb2f124c9751b796954dc9715fb02f0e5cc18b08"
 },
 "nbformat": 3,
 "nbformat_minor": 0,
 "worksheets": [
  {
   "cells": [
    {
     "cell_type": "markdown",
     "metadata": {},
     "source": [
      "Automatic dependency tracking"
     ]
    },
    {
     "cell_type": "code",
     "collapsed": false,
     "input": [
      "%%isolate name(Init1)\n",
      "a1 = 10\n",
      "b1 = 20\n",
      "c = 30\n",
      "d = 90"
     ],
     "language": "python",
     "metadata": {},
     "outputs": [],
     "prompt_number": 19
    },
    {
     "cell_type": "code",
     "collapsed": false,
     "input": [
      "%%isolate name(Init2)\n",
      "d = 40\n",
      "e = 50"
     ],
     "language": "python",
     "metadata": {},
     "outputs": [],
     "prompt_number": 20
    },
    {
     "cell_type": "code",
     "collapsed": false,
     "input": [
      "%%isolate name(Process1)\n",
      "print a1, d"
     ],
     "language": "python",
     "metadata": {},
     "outputs": [
      {
       "output_type": "stream",
       "stream": "stdout",
       "text": [
        "10 40\n"
       ]
      }
     ],
     "prompt_number": 21
    },
    {
     "cell_type": "code",
     "collapsed": false,
     "input": [
      "%%isolate name(Process2)\n",
      "print b1, c, e"
     ],
     "language": "python",
     "metadata": {},
     "outputs": [
      {
       "output_type": "stream",
       "stream": "stdout",
       "text": [
        "20 30 50\n"
       ]
      }
     ],
     "prompt_number": 22
    },
    {
     "cell_type": "code",
     "collapsed": false,
     "input": [
      "g = %dag"
     ],
     "language": "python",
     "metadata": {},
     "outputs": [],
     "prompt_number": 23
    },
    {
     "cell_type": "code",
     "collapsed": false,
     "input": [
      "i = %iso_debug"
     ],
     "language": "python",
     "metadata": {},
     "outputs": [],
     "prompt_number": 24
    },
    {
     "cell_type": "code",
     "collapsed": false,
     "input": [
      "g"
     ],
     "language": "python",
     "metadata": {},
     "outputs": [
      {
       "metadata": {},
       "output_type": "pyout",
       "prompt_number": 25,
       "svg": [
        "<svg baseProfile=\"full\" height=\"400px\" preserveAspectRatio=\"xMidYMid meet\" version=\"1.1\" viewBox=\"0,0,1000.0,1000.0\" width=\"400px\" xmlns=\"http://www.w3.org/2000/svg\" xmlns:ev=\"http://www.w3.org/2001/xml-events\" xmlns:xlink=\"http://www.w3.org/1999/xlink\"><defs><marker id=\"id3\" markerHeight=\"20\" markerUnits=\"strokeWidth\" markerWidth=\"20\" orient=\"auto\" refX=\"1.0\" refY=\"0.5\" viewBox=\"0,0,1,1\"><polygon fill=\"black\" points=\"0,0.2 1,0.5 0,0.8\" stroke=\"none\" /></marker></defs><g><rect fill=\"none\" height=\"60.0\" rx=\"20.0\" ry=\"20.0\" stroke=\"black\" stroke-width=\"1px\" width=\"260.0\" x=\"10.0\" y=\"597.310809132\" /><text font-family=\"monospace\" font-size=\"20.0\" text-anchor=\"middle\" transform=\"translate(0,-10.0)\" x=\"140.0\" y=\"627.310809132\"><tspan font-family=\"monospace\" font-size=\"20.0\" font-weight=\"bold\" text-anchor=\"middle\" x=\"140.0\" y=\"627.310809132\">Init1 </tspan><tspan font-family=\"monospace\" font-size=\"20.0\" font-weight=\"normal\" text-anchor=\"middle\" x=\"140.0\" y=\"657.310809132\">19[1, 10, 19]</tspan></text></g><g><rect fill=\"none\" height=\"60.0\" rx=\"20.0\" ry=\"20.0\" stroke=\"black\" stroke-width=\"1px\" width=\"260.0\" x=\"730.0\" y=\"94.338224401\" /><text font-family=\"monospace\" font-size=\"20.0\" text-anchor=\"middle\" transform=\"translate(0,-10.0)\" x=\"860.0\" y=\"124.338224401\"><tspan font-family=\"monospace\" font-size=\"20.0\" font-weight=\"bold\" text-anchor=\"middle\" x=\"860.0\" y=\"124.338224401\">Init2 </tspan><tspan font-family=\"monospace\" font-size=\"20.0\" font-weight=\"normal\" text-anchor=\"middle\" x=\"860.0\" y=\"154.338224401\">20[2, 11, 20]</tspan></text></g><g><rect fill=\"none\" height=\"60.0\" rx=\"20.0\" ry=\"20.0\" stroke=\"black\" stroke-width=\"1px\" width=\"260.0\" x=\"530.695391511\" y=\"450.815354801\" /><text font-family=\"monospace\" font-size=\"20.0\" text-anchor=\"middle\" transform=\"translate(0,-10.0)\" x=\"660.695391511\" y=\"480.815354801\"><tspan font-family=\"monospace\" font-size=\"20.0\" font-weight=\"bold\" text-anchor=\"middle\" x=\"660.695391511\" y=\"480.815354801\">Process1 </tspan><tspan font-family=\"monospace\" font-size=\"20.0\" font-weight=\"normal\" text-anchor=\"middle\" x=\"660.695391511\" y=\"510.815354801\">21[3, 12, 21]</tspan></text></g><g><rect fill=\"none\" height=\"60.0\" rx=\"20.0\" ry=\"20.0\" stroke=\"black\" stroke-width=\"1px\" width=\"260.0\" x=\"361.420166523\" y=\"10.0\" /><text font-family=\"monospace\" font-size=\"20.0\" text-anchor=\"middle\" transform=\"translate(0,-10.0)\" x=\"491.420166523\" y=\"40.0\"><tspan font-family=\"monospace\" font-size=\"20.0\" font-weight=\"bold\" text-anchor=\"middle\" x=\"491.420166523\" y=\"40.0\">Process2 </tspan><tspan font-family=\"monospace\" font-size=\"20.0\" font-weight=\"normal\" text-anchor=\"middle\" x=\"491.420166523\" y=\"70.0\">22[4, 13, 22]</tspan></text></g><g><rect fill=\"none\" height=\"60.0\" rx=\"20.0\" ry=\"20.0\" stroke=\"black\" stroke-width=\"1px\" width=\"420.0\" x=\"570.0\" y=\"930.0\" /><text font-family=\"monospace\" font-size=\"20.0\" text-anchor=\"middle\" transform=\"translate(0,-10.0)\" x=\"780.0\" y=\"960.0\"><tspan font-family=\"monospace\" font-size=\"20.0\" font-weight=\"bold\" text-anchor=\"middle\" x=\"780.0\" y=\"960.0\">#BrokenPreConditions </tspan><tspan font-family=\"monospace\" font-size=\"20.0\" font-weight=\"normal\" text-anchor=\"middle\" x=\"780.0\" y=\"990.0\">-1[]</tspan></text></g><g><path d=\"M 270.0 627.310809132 Q 335.173847878 590.686945549 400.347695756 554.063081966 Q 465.521543633 517.439218384 530.695391511 480.815354801\" fill=\"none\" marker-mid=\"url(#id3)\" stroke=\"black\" stroke-width=\"1px\" /><text font-family=\"monospace\" font-size=\"20.0\" text-anchor=\"middle\" transform=\"rotate(150.666578172,400.347695756,554.063081966) translate(0,-10.0)\" x=\"400.347695756\" y=\"554.063081966\"><tspan font-family=\"monospace\" font-size=\"20.0\" font-weight=\"bold\" text-anchor=\"middle\" x=\"400.347695756\" y=\"554.063081966\">a1</tspan></text></g><g><path d=\"M 140.0 597.310809132 Q 227.855041631 465.483106849 315.710083261 333.655404566 Q 403.565124892 201.827702283 491.420166523 70.0\" fill=\"none\" marker-mid=\"url(#id3)\" stroke=\"black\" stroke-width=\"1px\" /><text font-family=\"monospace\" font-size=\"20.0\" text-anchor=\"middle\" transform=\"rotate(123.681011668,315.710083261,333.655404566) translate(0,-10.0)\" x=\"315.710083261\" y=\"333.655404566\"><tspan font-family=\"monospace\" font-size=\"20.0\" font-weight=\"bold\" text-anchor=\"middle\" x=\"315.710083261\" y=\"333.655404566\">c, b1</tspan></text></g><g><path d=\"M 860.0 154.338224401 Q 842.673847878 235.957507001 825.347695756 317.576789601 Q 808.021543633 399.196072201 790.695391511 480.815354801\" fill=\"none\" marker-mid=\"url(#id3)\" stroke=\"black\" stroke-width=\"1px\" /><text font-family=\"monospace\" font-size=\"20.0\" text-anchor=\"middle\" transform=\"rotate(281.984845565,825.347695756,317.576789601) translate(0,-10.0)\" x=\"825.347695756\" y=\"317.576789601\"><tspan font-family=\"monospace\" font-size=\"20.0\" font-weight=\"bold\" text-anchor=\"middle\" x=\"825.347695756\" y=\"317.576789601\">d</tspan></text></g><g><path d=\"M 730.0 124.338224401 Q 702.855041631 103.253668301 675.710083261 82.1691122005 Q 648.565124892 61.0845561003 621.420166523 40.0\" fill=\"none\" marker-mid=\"url(#id3)\" stroke=\"black\" stroke-width=\"1px\" /><text font-family=\"monospace\" font-size=\"20.0\" text-anchor=\"middle\" transform=\"rotate(37.8378918487,675.710083261,82.1691122005) translate(0,-10.0)\" x=\"675.710083261\" y=\"82.1691122005\"><tspan font-family=\"monospace\" font-size=\"20.0\" font-weight=\"bold\" text-anchor=\"middle\" x=\"675.710083261\" y=\"82.1691122005\">e</tspan></text></g></svg>"
       ],
       "text": [
        "<networkx.classes.digraph.DiGraph at 0x7f9ebc9067d0>"
       ]
      }
     ],
     "prompt_number": 25
    },
    {
     "cell_type": "code",
     "collapsed": false,
     "input": [
      "%history"
     ],
     "language": "python",
     "metadata": {},
     "outputs": [
      {
       "output_type": "stream",
       "stream": "stdout",
       "text": [
        "%%isolate name(Init1)  post(a1,c,b1,d)\n",
        "a1 = 10\n",
        "b1 = 20\n",
        "c = 30\n",
        "d = 90\n",
        "%%isolate name(Init2)  post(e,d)\n",
        "d = 40\n",
        "e = 50\n",
        "%%isolate name(Process1) pre(a1,d) \n",
        "print a1, d\n",
        "%%isolate name(Process2) pre(c,e,b1) \n",
        "print b1, c, e\n",
        "g = %dag\n",
        "i = %iso_debug\n",
        "g\n",
        "%history\n",
        "import IPython\n",
        "ip = IPython.get_ipython()\n",
        "ip.history_manager.input_hist_raw[28]\n",
        "%%isolate name(Init1)  post(a1,c,b1,d)\n",
        "a1 = 10\n",
        "b1 = 20\n",
        "c = 30\n",
        "d = 90\n",
        "%%isolate name(Init2)  post(e,d)\n",
        "d = 40\n",
        "e = 50\n",
        "%%isolate name(Process1) pre(a1,d) \n",
        "print a1, d\n",
        "%%isolate name(Process2) pre(c,e,b1) \n",
        "print b1, c, e\n",
        "g = %dag\n",
        "i = %iso_debug\n",
        "g\n",
        "%history\n",
        "import IPython\n",
        "ip = IPython.get_ipython()\n",
        "ip.history_manager.input_hist_raw[28]\n",
        "%%isolate name(Init1)  post(a1,c,b1,d)\n",
        "a1 = 10\n",
        "b1 = 20\n",
        "c = 30\n",
        "d = 90\n",
        "%%isolate name(Init2)  post(e,d)\n",
        "d = 40\n",
        "e = 50\n",
        "%%isolate name(Process1) pre(a1,d) \n",
        "print a1, d\n",
        "%%isolate name(Process2) pre(c,e,b1) \n",
        "print b1, c, e\n",
        "g = %dag\n",
        "i = %iso_debug\n",
        "g\n",
        "%history\n"
       ]
      }
     ],
     "prompt_number": 26
    },
    {
     "cell_type": "code",
     "collapsed": false,
     "input": [
      "import IPython\n",
      "ip = IPython.get_ipython()\n",
      "ip.history_manager.input_hist_raw[28]"
     ],
     "language": "python",
     "metadata": {},
     "outputs": [
      {
       "ename": "IndexError",
       "evalue": "list index out of range",
       "output_type": "pyerr",
       "traceback": [
        "\u001b[1;31m---------------------------------------------------------------------------\u001b[0m\n\u001b[1;31mIndexError\u001b[0m                                Traceback (most recent call last)",
        "\u001b[1;32m<ipython-input-27-2943eedda31b>\u001b[0m in \u001b[0;36m<module>\u001b[1;34m()\u001b[0m\n\u001b[0;32m      1\u001b[0m \u001b[1;32mimport\u001b[0m \u001b[0mIPython\u001b[0m\u001b[1;33m\u001b[0m\u001b[0m\n\u001b[0;32m      2\u001b[0m \u001b[0mip\u001b[0m \u001b[1;33m=\u001b[0m \u001b[0mIPython\u001b[0m\u001b[1;33m.\u001b[0m\u001b[0mget_ipython\u001b[0m\u001b[1;33m(\u001b[0m\u001b[1;33m)\u001b[0m\u001b[1;33m\u001b[0m\u001b[0m\n\u001b[1;32m----> 3\u001b[1;33m \u001b[0mip\u001b[0m\u001b[1;33m.\u001b[0m\u001b[0mhistory_manager\u001b[0m\u001b[1;33m.\u001b[0m\u001b[0minput_hist_raw\u001b[0m\u001b[1;33m[\u001b[0m\u001b[1;36m28\u001b[0m\u001b[1;33m]\u001b[0m\u001b[1;33m\u001b[0m\u001b[0m\n\u001b[0m",
        "\u001b[1;31mIndexError\u001b[0m: list index out of range"
       ]
      }
     ],
     "prompt_number": 27
    },
    {
     "cell_type": "code",
     "collapsed": false,
     "input": [],
     "language": "python",
     "metadata": {},
     "outputs": []
    }
   ],
   "metadata": {}
  }
 ]
}