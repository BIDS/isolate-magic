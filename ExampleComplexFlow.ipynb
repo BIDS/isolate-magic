{
 "metadata": {
  "name": "",
  "signature": "sha256:2b42daf4528f35e53febe96a4ea8feabd7ea8bff4a432c46c700ec5fde50843d"
 },
 "nbformat": 3,
 "nbformat_minor": 0,
 "worksheets": [
  {
   "cells": [
    {
     "cell_type": "markdown",
     "metadata": {},
     "source": [
      "Automatic dependency tracking"
     ]
    },
    {
     "cell_type": "code",
     "collapsed": false,
     "input": [
      "%%isolate name(Init1)\n",
      "a1 = 10\n",
      "b1 = 20\n",
      "c = 30\n",
      "d = 90"
     ],
     "language": "python",
     "metadata": {},
     "outputs": [],
     "prompt_number": 10
    },
    {
     "cell_type": "code",
     "collapsed": false,
     "input": [
      "%%isolate name(Init2)\n",
      "d = 40\n",
      "e = 50"
     ],
     "language": "python",
     "metadata": {},
     "outputs": [],
     "prompt_number": 11
    },
    {
     "cell_type": "code",
     "collapsed": false,
     "input": [
      "%%isolate name(Process1)\n",
      "print a1, d"
     ],
     "language": "python",
     "metadata": {},
     "outputs": [
      {
       "output_type": "stream",
       "stream": "stdout",
       "text": [
        "10 40\n"
       ]
      }
     ],
     "prompt_number": 12
    },
    {
     "cell_type": "code",
     "collapsed": false,
     "input": [
      "%%isolate name(Process2)\n",
      "print b1, c, e"
     ],
     "language": "python",
     "metadata": {},
     "outputs": [
      {
       "output_type": "stream",
       "stream": "stdout",
       "text": [
        "20 30 50\n"
       ]
      }
     ],
     "prompt_number": 13
    },
    {
     "cell_type": "code",
     "collapsed": false,
     "input": [
      "g = %flowchart"
     ],
     "language": "python",
     "metadata": {},
     "outputs": [],
     "prompt_number": 14
    },
    {
     "cell_type": "code",
     "collapsed": false,
     "input": [
      "i = %iso_debug"
     ],
     "language": "python",
     "metadata": {},
     "outputs": [],
     "prompt_number": 15
    },
    {
     "cell_type": "code",
     "collapsed": false,
     "input": [
      "g"
     ],
     "language": "python",
     "metadata": {},
     "outputs": [
      {
       "metadata": {},
       "output_type": "pyout",
       "prompt_number": 16,
       "svg": [
        "<svg baseProfile=\"full\" height=\"600px\" preserveAspectRatio=\"xMidYMid meet\" version=\"1.1\" viewBox=\"0,0,689.219012998,689.219012998\" width=\"600px\" xmlns=\"http://www.w3.org/2000/svg\" xmlns:ev=\"http://www.w3.org/2001/xml-events\" xmlns:xlink=\"http://www.w3.org/1999/xlink\"><defs><marker id=\"id5\" markerHeight=\"10.0\" markerUnits=\"userSpaceOnUse\" markerWidth=\"10.0\" orient=\"auto\" refX=\"5.0\" refY=\"5.0\" viewBox=\"0,0,10.0,10.0\"><polygon fill=\"black\" points=\"0,2.0 10.0,5.0 0,8.0\" stroke=\"none\" /></marker><marker id=\"id6\" markerHeight=\"10.0\" markerUnits=\"userSpaceOnUse\" markerWidth=\"10.0\" orient=\"auto\" refX=\"5.0\" refY=\"5.0\" viewBox=\"0,0,10.0,10.0\"><polygon fill=\"black\" points=\"0,2.0 10.0,5.0 0,8.0\" stroke=\"none\" /></marker><marker id=\"id7\" markerHeight=\"10.0\" markerUnits=\"userSpaceOnUse\" markerWidth=\"10.0\" orient=\"auto\" refX=\"5.0\" refY=\"5.0\" viewBox=\"0,0,10.0,10.0\"><polygon fill=\"black\" points=\"0,2.0 10.0,5.0 0,8.0\" stroke=\"none\" /></marker><marker id=\"id8\" markerHeight=\"10.0\" markerUnits=\"userSpaceOnUse\" markerWidth=\"10.0\" orient=\"auto\" refX=\"5.0\" refY=\"5.0\" viewBox=\"0,0,10.0,10.0\"><polygon fill=\"black\" points=\"0,2.0 10.0,5.0 0,8.0\" stroke=\"none\" /></marker></defs><g><rect fill=\"none\" height=\"60.0\" rx=\"20.0\" ry=\"20.0\" stroke=\"rgb(255,0,0)\" stroke-width=\"1px\" width=\"180.0\" x=\"499.219012998\" y=\"344.609506499\" /><text font-family=\"monospace\" font-size=\"20.0\" text-anchor=\"middle\" transform=\"translate(0,-10.0)\" x=\"589.219012998\" y=\"374.609506499\"><tspan font-family=\"monospace\" font-size=\"20.0\" font-weight=\"bold\" text-anchor=\"middle\" x=\"589.219012998\" y=\"374.609506499\">Init1</tspan><tspan font-family=\"monospace\" font-size=\"20.0\" font-weight=\"normal\" text-anchor=\"middle\" x=\"589.219012998\" y=\"404.609506499\">10[1, 10]</tspan></text></g><g><rect fill=\"none\" height=\"60.0\" rx=\"20.0\" ry=\"20.0\" stroke=\"rgb(255,0,0)\" stroke-width=\"1px\" width=\"180.0\" x=\"344.609485959\" y=\"619.219012998\" /><text font-family=\"monospace\" font-size=\"20.0\" text-anchor=\"middle\" transform=\"translate(0,-10.0)\" x=\"434.609485959\" y=\"649.219012998\"><tspan font-family=\"monospace\" font-size=\"20.0\" font-weight=\"bold\" text-anchor=\"middle\" x=\"434.609485959\" y=\"649.219012998\">Init2</tspan><tspan font-family=\"monospace\" font-size=\"20.0\" font-weight=\"normal\" text-anchor=\"middle\" x=\"434.609485959\" y=\"679.219012998\">11[2, 11]</tspan></text></g><g><rect fill=\"none\" height=\"60.0\" rx=\"20.0\" ry=\"20.0\" stroke=\"rgb(255,0,0)\" stroke-width=\"1px\" width=\"180.0\" x=\"10.0\" y=\"344.609485959\" /><text font-family=\"monospace\" font-size=\"20.0\" text-anchor=\"middle\" transform=\"translate(0,-10.0)\" x=\"100.0\" y=\"374.609485959\"><tspan font-family=\"monospace\" font-size=\"20.0\" font-weight=\"bold\" text-anchor=\"middle\" x=\"100.0\" y=\"374.609485959\">Process1</tspan><tspan font-family=\"monospace\" font-size=\"20.0\" font-weight=\"normal\" text-anchor=\"middle\" x=\"100.0\" y=\"404.609485959\">12[3, 12]</tspan></text></g><g><rect fill=\"none\" height=\"60.0\" rx=\"20.0\" ry=\"20.0\" stroke=\"rgb(255,0,0)\" stroke-width=\"1px\" width=\"180.0\" x=\"344.609506499\" y=\"10.0\" /><text font-family=\"monospace\" font-size=\"20.0\" text-anchor=\"middle\" transform=\"translate(0,-10.0)\" x=\"434.609506499\" y=\"40.0\"><tspan font-family=\"monospace\" font-size=\"20.0\" font-weight=\"bold\" text-anchor=\"middle\" x=\"434.609506499\" y=\"40.0\">Process2</tspan><tspan font-family=\"monospace\" font-size=\"20.0\" font-weight=\"normal\" text-anchor=\"middle\" x=\"434.609506499\" y=\"70.0\">13[4, 13]</tspan></text></g><g><path d=\"M 499.219012998 374.609506499 Q 421.914259749 374.609501364 344.609506499 374.609496229 Q 267.30475325 374.609491094 190.0 374.609485959\" fill=\"none\" marker-mid=\"url(#id5)\" stroke=\"black\" stroke-linecap=\"butt\" stroke-width=\"1px\" /><text font-family=\"monospace\" font-size=\"20.0\" text-anchor=\"middle\" transform=\"rotate(3.80595633942e-06,344.609506499,374.609496229) translate(0,-10.0)\" x=\"344.609506499\" y=\"374.609496229\"><tspan font-family=\"monospace\" font-size=\"20.0\" font-weight=\"normal\" text-anchor=\"middle\" x=\"344.609506499\" y=\"374.609496229\">a1</tspan></text></g><g><path d=\"M 589.219012998 344.609506499 Q 550.566636373 275.957129874 511.914259749 207.30475325 Q 473.261883124 138.652376625 434.609506499 70.0\" fill=\"none\" marker-mid=\"url(#id6)\" stroke=\"black\" stroke-linecap=\"butt\" stroke-width=\"1px\" /><text font-family=\"monospace\" font-size=\"20.0\" text-anchor=\"middle\" transform=\"rotate(60.6197990675,511.914259749,207.30475325) translate(0,-10.0)\" x=\"511.914259749\" y=\"207.30475325\"><tspan font-family=\"monospace\" font-size=\"20.0\" font-weight=\"normal\" text-anchor=\"middle\" x=\"511.914259749\" y=\"207.30475325\">c, b1</tspan></text></g><g><path d=\"M 344.609485959 649.219012998 Q 305.957114469 580.566631238 267.304742979 511.914249479 Q 228.65237149 443.261867719 190.0 374.609485959\" fill=\"none\" marker-mid=\"url(#id7)\" stroke=\"black\" stroke-linecap=\"butt\" stroke-width=\"1px\" /><text font-family=\"monospace\" font-size=\"20.0\" text-anchor=\"middle\" transform=\"rotate(60.6198041538,267.304742979,511.914249479) translate(0,-10.0)\" x=\"267.304742979\" y=\"511.914249479\"><tspan font-family=\"monospace\" font-size=\"20.0\" font-weight=\"normal\" text-anchor=\"middle\" x=\"267.304742979\" y=\"511.914249479\">d</tspan></text></g><g><path d=\"M 434.609485959 619.219012998 Q 434.609491094 481.914259749 434.609496229 344.609506499 Q 434.609501364 207.30475325 434.609506499 70.0\" fill=\"none\" marker-mid=\"url(#id8)\" stroke=\"black\" stroke-linecap=\"butt\" stroke-width=\"1px\" /><text font-family=\"monospace\" font-size=\"20.0\" text-anchor=\"middle\" transform=\"rotate(90.0000021428,434.609496229,344.609506499) translate(0,-10.0)\" x=\"434.609496229\" y=\"344.609506499\"><tspan font-family=\"monospace\" font-size=\"20.0\" font-weight=\"normal\" text-anchor=\"middle\" x=\"434.609496229\" y=\"344.609506499\">e</tspan></text></g></svg>"
       ],
       "text": [
        "<networkx.classes.digraph.DiGraph at 0x7fdfa919aa50>"
       ]
      }
     ],
     "prompt_number": 16
    },
    {
     "cell_type": "code",
     "collapsed": false,
     "input": [
      "%history"
     ],
     "language": "python",
     "metadata": {},
     "outputs": [
      {
       "output_type": "stream",
       "stream": "stdout",
       "text": [
        "%%isolate nodename(Init1)  post(a1,c,b1,d)\n",
        "a1 = 10\n",
        "b1 = 20\n",
        "c = 30\n",
        "d = 90\n",
        "%%isolate nodename(Init2)  post(e,d)\n",
        "d = 40\n",
        "e = 50\n",
        "%%isolate nodename(Process1) pre(a1,d) \n",
        "print a1, d\n",
        "%%isolate nodename(Process2) pre(c,e,b1) \n",
        "print b1, c, e\n",
        "g = %flowchart\n",
        "i = %iso_debug\n",
        "g\n",
        "%history\n",
        "import IPython\n",
        "ip = IPython.get_ipython()\n",
        "ip.history_manager.input_hist_raw[28]\n",
        "%%isolate nodename(Init1)  post(a1,c,b1,d)\n",
        "a1 = 10\n",
        "b1 = 20\n",
        "c = 30\n",
        "d = 90\n",
        "%%isolate nodename(Init2)  post(e,d)\n",
        "d = 40\n",
        "e = 50\n",
        "%%isolate nodename(Process1) pre(a1,d) \n",
        "print a1, d\n",
        "%%isolate nodename(Process2) pre(c,e,b1) \n",
        "print b1, c, e\n",
        "g = %flowchart\n",
        "i = %iso_debug\n",
        "g\n",
        "%history\n"
       ]
      }
     ],
     "prompt_number": 17
    },
    {
     "cell_type": "code",
     "collapsed": false,
     "input": [],
     "language": "python",
     "metadata": {},
     "outputs": [],
     "prompt_number": 17
    },
    {
     "cell_type": "code",
     "collapsed": false,
     "input": [
      "import IPython\n",
      "ip = IPython.get_ipython()\n",
      "ip.history_manager.input_hist_raw[28]"
     ],
     "language": "python",
     "metadata": {},
     "outputs": [
      {
       "ename": "IndexError",
       "evalue": "list index out of range",
       "output_type": "pyerr",
       "traceback": [
        "\u001b[1;31m---------------------------------------------------------------------------\u001b[0m\n\u001b[1;31mIndexError\u001b[0m                                Traceback (most recent call last)",
        "\u001b[1;32m<ipython-input-18-2943eedda31b>\u001b[0m in \u001b[0;36m<module>\u001b[1;34m()\u001b[0m\n\u001b[0;32m      1\u001b[0m \u001b[1;32mimport\u001b[0m \u001b[0mIPython\u001b[0m\u001b[1;33m\u001b[0m\u001b[0m\n\u001b[0;32m      2\u001b[0m \u001b[0mip\u001b[0m \u001b[1;33m=\u001b[0m \u001b[0mIPython\u001b[0m\u001b[1;33m.\u001b[0m\u001b[0mget_ipython\u001b[0m\u001b[1;33m(\u001b[0m\u001b[1;33m)\u001b[0m\u001b[1;33m\u001b[0m\u001b[0m\n\u001b[1;32m----> 3\u001b[1;33m \u001b[0mip\u001b[0m\u001b[1;33m.\u001b[0m\u001b[0mhistory_manager\u001b[0m\u001b[1;33m.\u001b[0m\u001b[0minput_hist_raw\u001b[0m\u001b[1;33m[\u001b[0m\u001b[1;36m28\u001b[0m\u001b[1;33m]\u001b[0m\u001b[1;33m\u001b[0m\u001b[0m\n\u001b[0m",
        "\u001b[1;31mIndexError\u001b[0m: list index out of range"
       ]
      }
     ],
     "prompt_number": 18
    },
    {
     "cell_type": "code",
     "collapsed": false,
     "input": [],
     "language": "python",
     "metadata": {},
     "outputs": []
    }
   ],
   "metadata": {}
  }
 ]
}