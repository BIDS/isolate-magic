{
 "metadata": {
  "name": "",
  "signature": "sha256:c34de536fe8a8b3e9d1cc516d2f75980fb05cb03a8c4e3eb9412de07335f456b"
 },
 "nbformat": 3,
 "nbformat_minor": 0,
 "worksheets": [
  {
   "cells": [
    {
     "cell_type": "markdown",
     "metadata": {},
     "source": [
      "We start by sepecifying that `%%isolate` will police inputs and outputs"
     ]
    },
    {
     "cell_type": "code",
     "collapsed": false,
     "input": [
      "%pylab inline"
     ],
     "language": "python",
     "metadata": {},
     "outputs": [
      {
       "output_type": "stream",
       "stream": "stdout",
       "text": [
        "Populating the interactive namespace from numpy and matplotlib\n"
       ]
      }
     ],
     "prompt_number": 1
    },
    {
     "cell_type": "code",
     "collapsed": false,
     "input": [
      "%isolatemode strict"
     ],
     "language": "python",
     "metadata": {},
     "outputs": [],
     "prompt_number": 2
    },
    {
     "cell_type": "markdown",
     "metadata": {},
     "source": [
      "The following demonstrates how variables are isolated unless explicitly set in `post`."
     ]
    },
    {
     "cell_type": "code",
     "collapsed": false,
     "input": [
      "%%isolate name(Init1) post(a, b, c)\n",
      "a = 10\n",
      "b = 20\n",
      "c = 30"
     ],
     "language": "python",
     "metadata": {},
     "outputs": [],
     "prompt_number": 3
    },
    {
     "cell_type": "code",
     "collapsed": false,
     "input": [
      "%%isolate name(Init2) post(d, e)\n",
      "d = 40\n",
      "e = 50"
     ],
     "language": "python",
     "metadata": {},
     "outputs": [],
     "prompt_number": 4
    },
    {
     "cell_type": "code",
     "collapsed": false,
     "input": [
      "%%isolate name(Process1) pre(a, d)\n",
      "print a, d"
     ],
     "language": "python",
     "metadata": {},
     "outputs": [
      {
       "output_type": "stream",
       "stream": "stdout",
       "text": [
        "10 40\n"
       ]
      }
     ],
     "prompt_number": 5
    },
    {
     "cell_type": "code",
     "collapsed": false,
     "input": [
      "%%isolate name(Process2) pre(b, c, e)\n",
      "print b, c, e"
     ],
     "language": "python",
     "metadata": {},
     "outputs": [
      {
       "output_type": "stream",
       "stream": "stdout",
       "text": [
        "20 30 50\n"
       ]
      }
     ],
     "prompt_number": 8
    },
    {
     "cell_type": "code",
     "collapsed": false,
     "input": [
      "%dag"
     ],
     "language": "python",
     "metadata": {},
     "outputs": [
      {
       "metadata": {},
       "output_type": "pyout",
       "prompt_number": 9,
       "text": [
        "(<matplotlib.collections.PathCollection at 0x45d0510>,\n",
        " <matplotlib.collections.LineCollection at 0x45d0dd0>,\n",
        " {3: <matplotlib.text.Text at 0x45d4d50>,\n",
        "  4: <matplotlib.text.Text at 0x4804110>,\n",
        "  5: <matplotlib.text.Text at 0x4804550>,\n",
        "  6: <matplotlib.text.Text at 0x4804990>,\n",
        "  8: <matplotlib.text.Text at 0x45d4a50>},\n",
        " {(3, 5): <matplotlib.text.Text at 0x480bad0>,\n",
        "  (3, 6): <matplotlib.text.Text at 0x480b510>,\n",
        "  (3, 8): <matplotlib.text.Text at 0x4808f10>,\n",
        "  (4, 5): <matplotlib.text.Text at 0x4808950>,\n",
        "  (4, 6): <matplotlib.text.Text at 0x45d4410>,\n",
        "  (4, 8): <matplotlib.text.Text at 0x4808390>})"
       ]
      },
      {
       "metadata": {},
       "output_type": "display_data",
       "png": "[encoded data removed]",
       "text": [
        "<matplotlib.figure.Figure at 0x45a2fd0>"
       ]
      }
     ],
     "prompt_number": 9
    },
    {
     "cell_type": "code",
     "collapsed": false,
     "input": [],
     "language": "python",
     "metadata": {},
     "outputs": [],
     "prompt_number": 7
    }
   ],
   "metadata": {}
  }
 ]
}