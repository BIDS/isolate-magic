{
 "metadata": {
  "name": "",
  "signature": "sha256:c303c5948f70244b0607d5c88af00c16ee4c2f2bf91f94dc1589b92c42ff775c"
 },
 "nbformat": 3,
 "nbformat_minor": 0,
 "worksheets": [
  {
   "cells": [
    {
     "cell_type": "markdown",
     "metadata": {},
     "source": [
      "Automatic dependency tracking"
     ]
    },
    {
     "cell_type": "code",
     "collapsed": false,
     "input": [
      "%%isolate name(Init1)\n",
      "a1 = 10\n",
      "b1 = 20\n",
      "c = 30\n",
      "d = 90"
     ],
     "language": "python",
     "metadata": {},
     "outputs": [
      {
       "output_type": "stream",
       "stream": "stdout",
       "text": [
        "setting up user_ns to <class '__main__.ProtectedNamespace'>\n"
       ]
      }
     ],
     "prompt_number": 1
    },
    {
     "cell_type": "code",
     "collapsed": false,
     "input": [
      "%%isolate name(Init2)\n",
      "d = 40\n",
      "e = 50"
     ],
     "language": "python",
     "metadata": {},
     "outputs": [],
     "prompt_number": 2
    },
    {
     "cell_type": "code",
     "collapsed": false,
     "input": [
      "%%isolate name(Process1)\n",
      "print a1, d"
     ],
     "language": "python",
     "metadata": {},
     "outputs": [
      {
       "output_type": "stream",
       "stream": "stdout",
       "text": [
        "10 40\n"
       ]
      }
     ],
     "prompt_number": 3
    },
    {
     "cell_type": "code",
     "collapsed": false,
     "input": [
      "%%isolate name(Process2)\n",
      "print b1, c, e"
     ],
     "language": "python",
     "metadata": {},
     "outputs": [
      {
       "output_type": "stream",
       "stream": "stdout",
       "text": [
        "20 30 50\n"
       ]
      }
     ],
     "prompt_number": 4
    },
    {
     "cell_type": "code",
     "collapsed": false,
     "input": [
      "%dag"
     ],
     "language": "python",
     "metadata": {},
     "outputs": [
      {
       "output_type": "stream",
       "stream": "stdout",
       "text": [
        "{1: (set([]), set(['a1', 'c', 'b1', 'd'])), 2: (set([]), set(['e', 'd'])), 3: (set(['a1', 'd']), set([])), 4: (set(['c', 'e', 'b1']), set([]))}\n"
       ]
      },
      {
       "metadata": {},
       "output_type": "pyout",
       "prompt_number": 5,
       "svg": [
        "<svg baseProfile=\"basic\" height=\"400px\" version=\"1.1\" viewBox=\"0,0,1000.0,1000.0\" width=\"400px\" xmlns=\"http://www.w3.org/2000/svg\" xmlns:ev=\"http://www.w3.org/2001/xml-events\" xmlns:xlink=\"http://www.w3.org/1999/xlink\"><defs><marker id=\"id1\" markerHeight=\"20\" markerUnits=\"strokeWidth\" markerWidth=\"20\" orient=\"auto\" refX=\"1.0\" refY=\"0.5\" viewBox=\"0,0,1,1\"><polygon fill=\"black\" points=\"0,0.2 1,0.5 0,0.8\" stroke=\"none\" /></marker></defs><g><rect fill=\"none\" height=\"40.0\" rx=\"20.0\" ry=\"20.0\" stroke=\"black\" stroke-width=\"2px\" width=\"220.0\" x=\"770.0\" y=\"556.973945853\" /><text font-family=\"monospace\" font-size=\"20.0\" text-anchor=\"middle\" x=\"880.0\" y=\"584.973945853\">Init1 \n",
        "1[1]</text></g><g><rect fill=\"none\" height=\"40.0\" rx=\"20.0\" ry=\"20.0\" stroke=\"black\" stroke-width=\"2px\" width=\"220.0\" x=\"10.0\" y=\"443.179160166\" /><text font-family=\"monospace\" font-size=\"20.0\" text-anchor=\"middle\" x=\"120.0\" y=\"471.179160166\">Init2 \n",
        "2[2]</text></g><g><rect fill=\"none\" height=\"40.0\" rx=\"20.0\" ry=\"20.0\" stroke=\"black\" stroke-width=\"2px\" width=\"280.0\" x=\"525.441608165\" y=\"10.0\" /><text font-family=\"monospace\" font-size=\"20.0\" text-anchor=\"middle\" x=\"665.441608165\" y=\"38.0\">Process1 \n",
        "3[3]</text></g><g><rect fill=\"none\" height=\"40.0\" rx=\"20.0\" ry=\"20.0\" stroke=\"black\" stroke-width=\"2px\" width=\"280.0\" x=\"473.212934587\" y=\"950.0\" /><text font-family=\"monospace\" font-size=\"20.0\" text-anchor=\"middle\" x=\"613.212934587\" y=\"978.0\">Process2 \n",
        "4[4]</text></g><g><path d=\"M 880.0 556.973945853 665.441608165 50.0\" marker-end=\"url(#id1)\" stroke=\"black\" stroke-width=\"2px\" /><text font-family=\"monospace\" font-size=\"20.0\" text-anchor=\"middle\" transform=\"rotate(67.0612459768,772.720804082,303.486972927) translate(0,-10.0)\" x=\"772.720804082\" y=\"303.486972927\">a1</text></g><g><path d=\"M 880.0 596.973945853 753.212934587 970.0\" marker-end=\"url(#id1)\" stroke=\"black\" stroke-width=\"2px\" /><text font-family=\"monospace\" font-size=\"20.0\" text-anchor=\"middle\" transform=\"rotate(288.772278912,816.606467293,783.486972927) translate(0,-10.0)\" x=\"816.606467293\" y=\"783.486972927\">c, b1</text></g><g><path d=\"M 230.0 463.179160166 665.441608165 50.0\" marker-end=\"url(#id1)\" stroke=\"black\" stroke-width=\"2px\" /><text font-family=\"monospace\" font-size=\"20.0\" text-anchor=\"middle\" transform=\"rotate(136.502734635,447.720804082,256.589580083) translate(0,-10.0)\" x=\"447.720804082\" y=\"256.589580083\">d</text></g><g><path d=\"M 120.0 483.179160166 613.212934587 950.0\" marker-end=\"url(#id1)\" stroke=\"black\" stroke-width=\"2px\" /><text font-family=\"monospace\" font-size=\"20.0\" text-anchor=\"middle\" transform=\"rotate(223.425289901,366.606467293,716.589580083) translate(0,-10.0)\" x=\"366.606467293\" y=\"716.589580083\">e</text></g></svg>"
       ],
       "text": [
        "<networkx.classes.digraph.DiGraph at 0x7f76df7eaa90>"
       ]
      }
     ],
     "prompt_number": 5
    },
    {
     "cell_type": "code",
     "collapsed": false,
     "input": [],
     "language": "python",
     "metadata": {},
     "outputs": [],
     "prompt_number": 5
    },
    {
     "cell_type": "code",
     "collapsed": false,
     "input": [],
     "language": "python",
     "metadata": {},
     "outputs": [],
     "prompt_number": 5
    }
   ],
   "metadata": {}
  }
 ]
}