{
 "metadata": {
  "name": "",
  "signature": "sha256:d0d2198629722fed6873d6257f0657729b7f55bd101fb9032d1305b9de2a14c5"
 },
 "nbformat": 3,
 "nbformat_minor": 0,
 "worksheets": [
  {
   "cells": [
    {
     "cell_type": "markdown",
     "metadata": {},
     "source": [
      "Automatic dependency tracking"
     ]
    },
    {
     "cell_type": "code",
     "collapsed": false,
     "input": [
      "%%isolate name(Init1)\n",
      "a1 = 10\n",
      "b1 = 20\n",
      "c = 30\n",
      "d = 90"
     ],
     "language": "python",
     "metadata": {},
     "outputs": [
      {
       "output_type": "stream",
       "stream": "stdout",
       "text": [
        "setting up user_ns to <class '__main__.ProtectedNamespace'>\n"
       ]
      }
     ],
     "prompt_number": 1
    },
    {
     "cell_type": "code",
     "collapsed": false,
     "input": [
      "%%isolate name(Init2)\n",
      "d = 40\n",
      "e = 50"
     ],
     "language": "python",
     "metadata": {},
     "outputs": [],
     "prompt_number": 2
    },
    {
     "cell_type": "code",
     "collapsed": false,
     "input": [
      "%%isolate name(Process1)\n",
      "print a1, d"
     ],
     "language": "python",
     "metadata": {},
     "outputs": [
      {
       "output_type": "stream",
       "stream": "stdout",
       "text": [
        "10 40\n"
       ]
      }
     ],
     "prompt_number": 3
    },
    {
     "cell_type": "code",
     "collapsed": false,
     "input": [
      "%%isolate name(Process2)\n",
      "print b1, c, e"
     ],
     "language": "python",
     "metadata": {},
     "outputs": [
      {
       "output_type": "stream",
       "stream": "stdout",
       "text": [
        "20 30 50\n"
       ]
      }
     ],
     "prompt_number": 4
    },
    {
     "cell_type": "code",
     "collapsed": false,
     "input": [
      "%dag"
     ],
     "language": "python",
     "metadata": {},
     "outputs": [
      {
       "output_type": "stream",
       "stream": "stdout",
       "text": [
        "{1: (set([]), set(['a1', 'c', 'b1', 'd'])), 2: (set([]), set(['e', 'd'])), 3: (set(['a1', 'd']), set([])), 4: (set(['c', 'e', 'b1']), set([]))}\n"
       ]
      },
      {
       "metadata": {},
       "output_type": "pyout",
       "prompt_number": 5,
       "svg": [
        "<svg baseProfile=\"basic\" height=\"400px\" version=\"1.1\" viewBox=\"0,0,1000.0,1000.0\" width=\"400px\" xmlns=\"http://www.w3.org/2000/svg\" xmlns:ev=\"http://www.w3.org/2001/xml-events\" xmlns:xlink=\"http://www.w3.org/1999/xlink\"><defs><marker id=\"id1\" markerHeight=\"20\" markerUnits=\"strokeWidth\" markerWidth=\"20\" orient=\"auto\" refX=\"1.0\" refY=\"0.5\" viewBox=\"0,0,1,1\"><polygon fill=\"black\" points=\"0,0.2 1,0.5 0,0.8\" stroke=\"none\" /></marker></defs><g><rect fill=\"none\" height=\"80.0\" rx=\"20.0\" ry=\"20.0\" stroke=\"black\" stroke-width=\"2px\" width=\"120.0\" x=\"870.0\" y=\"10.0\" /><text font-family=\"monospace\" font-size=\"20.0\" text-anchor=\"middle\" x=\"930.0\" y=\"6.0\"><tspan dy=\"40.0\" font-family=\"monospace\" font-size=\"20.0\" text-anchor=\"middle\" x=\"930.0\">Init1 </tspan><tspan dy=\"40.0\" font-family=\"monospace\" font-size=\"20.0\" text-anchor=\"middle\" x=\"930.0\">1[1]</tspan></text></g><g><rect fill=\"none\" height=\"80.0\" rx=\"20.0\" ry=\"20.0\" stroke=\"black\" stroke-width=\"2px\" width=\"120.0\" x=\"10.0\" y=\"910.0\" /><text font-family=\"monospace\" font-size=\"20.0\" text-anchor=\"middle\" x=\"70.0\" y=\"906.0\"><tspan dy=\"40.0\" font-family=\"monospace\" font-size=\"20.0\" text-anchor=\"middle\" x=\"70.0\">Init2 </tspan><tspan dy=\"40.0\" font-family=\"monospace\" font-size=\"20.0\" text-anchor=\"middle\" x=\"70.0\">2[2]</tspan></text></g><g><rect fill=\"none\" height=\"80.0\" rx=\"20.0\" ry=\"20.0\" stroke=\"black\" stroke-width=\"2px\" width=\"180.0\" x=\"358.566992868\" y=\"10.0\" /><text font-family=\"monospace\" font-size=\"20.0\" text-anchor=\"middle\" x=\"448.566992868\" y=\"6.0\"><tspan dy=\"40.0\" font-family=\"monospace\" font-size=\"20.0\" text-anchor=\"middle\" x=\"448.566992868\">Process1 </tspan><tspan dy=\"40.0\" font-family=\"monospace\" font-size=\"20.0\" text-anchor=\"middle\" x=\"448.566992868\">3[3]</tspan></text></g><g><rect fill=\"none\" height=\"80.0\" rx=\"20.0\" ry=\"20.0\" stroke=\"black\" stroke-width=\"2px\" width=\"180.0\" x=\"639.679466466\" y=\"910.0\" /><text font-family=\"monospace\" font-size=\"20.0\" text-anchor=\"middle\" x=\"729.679466466\" y=\"906.0\"><tspan dy=\"40.0\" font-family=\"monospace\" font-size=\"20.0\" text-anchor=\"middle\" x=\"729.679466466\">Process2 </tspan><tspan dy=\"40.0\" font-family=\"monospace\" font-size=\"20.0\" text-anchor=\"middle\" x=\"729.679466466\">4[4]</tspan></text></g><g><path d=\"M 870.0 50.0 538.566992868 50.0\" marker-end=\"url(#id1)\" stroke=\"black\" stroke-width=\"2px\" /><text font-family=\"monospace\" font-size=\"20.0\" text-anchor=\"middle\" transform=\"rotate(360.0,704.283496434,50.0) translate(0,-10.0)\" x=\"704.283496434\" y=\"50.0\">a1</text></g><g><path d=\"M 930.0 90.0 729.679466466 910.0\" marker-end=\"url(#id1)\" stroke=\"black\" stroke-width=\"2px\" /><text font-family=\"monospace\" font-size=\"20.0\" text-anchor=\"middle\" transform=\"rotate(283.728098179,829.839733233,500.0) translate(0,-10.0)\" x=\"829.839733233\" y=\"500.0\">c, b1</text></g><g><path d=\"M 70.0 910.0 448.566992868 90.0\" marker-end=\"url(#id1)\" stroke=\"black\" stroke-width=\"2px\" /><text font-family=\"monospace\" font-size=\"20.0\" text-anchor=\"middle\" transform=\"rotate(114.781214713,259.283496434,500.0) translate(0,-10.0)\" x=\"259.283496434\" y=\"500.0\">d</text></g><g><path d=\"M 130.0 950.0 639.679466466 950.0\" marker-end=\"url(#id1)\" stroke=\"black\" stroke-width=\"2px\" /><text font-family=\"monospace\" font-size=\"20.0\" text-anchor=\"middle\" transform=\"rotate(180.0,384.839733233,950.0) translate(0,-10.0)\" x=\"384.839733233\" y=\"950.0\">e</text></g></svg>"
       ],
       "text": [
        "<networkx.classes.digraph.DiGraph at 0x7fb946459a50>"
       ]
      }
     ],
     "prompt_number": 5
    },
    {
     "cell_type": "code",
     "collapsed": false,
     "input": [],
     "language": "python",
     "metadata": {},
     "outputs": [],
     "prompt_number": 5
    },
    {
     "cell_type": "code",
     "collapsed": false,
     "input": [],
     "language": "python",
     "metadata": {},
     "outputs": [],
     "prompt_number": 5
    }
   ],
   "metadata": {}
  }
 ]
}