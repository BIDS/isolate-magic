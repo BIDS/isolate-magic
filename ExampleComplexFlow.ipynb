{
 "metadata": {
  "name": "",
  "signature": "sha256:e8a60b9298f225392b8b5c39541f6191f6a67dca754affcc42d4a7bffe4e18db"
 },
 "nbformat": 3,
 "nbformat_minor": 0,
 "worksheets": [
  {
   "cells": [
    {
     "cell_type": "markdown",
     "metadata": {},
     "source": [
      "Automatic dependency tracking"
     ]
    },
    {
     "cell_type": "code",
     "collapsed": false,
     "input": [
      "%%isolate name(Init1)\n",
      "a1 = 10\n",
      "b1 = 20\n",
      "c = 30\n",
      "d = 90"
     ],
     "language": "python",
     "metadata": {},
     "outputs": [],
     "prompt_number": 10
    },
    {
     "cell_type": "code",
     "collapsed": false,
     "input": [
      "%%isolate name(Init2)\n",
      "d = 40\n",
      "e = 50"
     ],
     "language": "python",
     "metadata": {},
     "outputs": [],
     "prompt_number": 11
    },
    {
     "cell_type": "code",
     "collapsed": false,
     "input": [
      "%%isolate name(Process1)\n",
      "print a1, d"
     ],
     "language": "python",
     "metadata": {},
     "outputs": [
      {
       "output_type": "stream",
       "stream": "stdout",
       "text": [
        "10 40\n"
       ]
      }
     ],
     "prompt_number": 12
    },
    {
     "cell_type": "code",
     "collapsed": false,
     "input": [
      "%%isolate name(Process2)\n",
      "print b1, c, e"
     ],
     "language": "python",
     "metadata": {},
     "outputs": [
      {
       "output_type": "stream",
       "stream": "stdout",
       "text": [
        "20 30 50\n"
       ]
      }
     ],
     "prompt_number": 13
    },
    {
     "cell_type": "code",
     "collapsed": false,
     "input": [
      "g = %dag"
     ],
     "language": "python",
     "metadata": {},
     "outputs": [],
     "prompt_number": 14
    },
    {
     "cell_type": "code",
     "collapsed": false,
     "input": [
      "i = %iso_debug"
     ],
     "language": "python",
     "metadata": {},
     "outputs": [],
     "prompt_number": 15
    },
    {
     "cell_type": "code",
     "collapsed": false,
     "input": [
      "g.prev"
     ],
     "language": "python",
     "metadata": {},
     "outputs": [
      {
       "metadata": {},
       "output_type": "pyout",
       "prompt_number": 16,
       "svg": [
        "<svg baseProfile=\"full\" height=\"600px\" preserveAspectRatio=\"xMidYMid meet\" version=\"1.1\" viewBox=\"0,0,1044.66067596,1044.66067596\" width=\"600px\" xmlns=\"http://www.w3.org/2000/svg\" xmlns:ev=\"http://www.w3.org/2001/xml-events\" xmlns:xlink=\"http://www.w3.org/1999/xlink\"><defs><marker id=\"id5\" markerHeight=\"10.0\" markerUnits=\"userSpaceOnUse\" markerWidth=\"10.0\" orient=\"auto\" refX=\"5.0\" refY=\"5.0\" viewBox=\"0,0,10.0,10.0\"><polygon fill=\"black\" points=\"0,2.0 10.0,5.0 0,8.0\" stroke=\"none\" /></marker><marker id=\"id6\" markerHeight=\"10.0\" markerUnits=\"userSpaceOnUse\" markerWidth=\"10.0\" orient=\"auto\" refX=\"5.0\" refY=\"5.0\" viewBox=\"0,0,10.0,10.0\"><polygon fill=\"black\" points=\"0,2.0 10.0,5.0 0,8.0\" stroke=\"none\" /></marker><marker id=\"id7\" markerHeight=\"10.0\" markerUnits=\"userSpaceOnUse\" markerWidth=\"10.0\" orient=\"auto\" refX=\"5.0\" refY=\"5.0\" viewBox=\"0,0,10.0,10.0\"><polygon fill=\"black\" points=\"0,2.0 10.0,5.0 0,8.0\" stroke=\"none\" /></marker><marker id=\"id8\" markerHeight=\"10.0\" markerUnits=\"userSpaceOnUse\" markerWidth=\"10.0\" orient=\"auto\" refX=\"5.0\" refY=\"5.0\" viewBox=\"0,0,10.0,10.0\"><polygon fill=\"black\" points=\"0,2.0 10.0,5.0 0,8.0\" stroke=\"none\" /></marker><marker id=\"id9\" markerHeight=\"10.0\" markerUnits=\"userSpaceOnUse\" markerWidth=\"10.0\" orient=\"auto\" refX=\"5.0\" refY=\"5.0\" viewBox=\"0,0,10.0,10.0\"><polygon fill=\"black\" points=\"0,2.0 10.0,5.0 0,8.0\" stroke=\"none\" /></marker><marker id=\"id10\" markerHeight=\"10.0\" markerUnits=\"userSpaceOnUse\" markerWidth=\"10.0\" orient=\"auto\" refX=\"5.0\" refY=\"5.0\" viewBox=\"0,0,10.0,10.0\"><polygon fill=\"black\" points=\"0,2.0 10.0,5.0 0,8.0\" stroke=\"none\" /></marker><marker id=\"id11\" markerHeight=\"10.0\" markerUnits=\"userSpaceOnUse\" markerWidth=\"10.0\" orient=\"auto\" refX=\"5.0\" refY=\"5.0\" viewBox=\"0,0,10.0,10.0\"><polygon fill=\"black\" points=\"0,2.0 10.0,5.0 0,8.0\" stroke=\"none\" /></marker><marker id=\"id12\" markerHeight=\"10.0\" markerUnits=\"userSpaceOnUse\" markerWidth=\"10.0\" orient=\"auto\" refX=\"5.0\" refY=\"5.0\" viewBox=\"0,0,10.0,10.0\"><polygon fill=\"black\" points=\"0,2.0 10.0,5.0 0,8.0\" stroke=\"none\" /></marker></defs><g><rect fill=\"none\" height=\"60.0\" rx=\"20.0\" ry=\"20.0\" stroke=\"rgb(127,0,0)\" stroke-width=\"1px\" width=\"160.0\" x=\"874.660675955\" y=\"671.639095339\" /><text font-family=\"monospace\" font-size=\"20.0\" text-anchor=\"middle\" transform=\"translate(0,-10.0)\" x=\"954.660675955\" y=\"701.639095339\"><tspan font-family=\"monospace\" font-size=\"20.0\" font-weight=\"normal\" text-anchor=\"middle\" x=\"954.660675955\" y=\"701.639095339\">Init1</tspan><tspan font-family=\"monospace\" font-size=\"20.0\" font-weight=\"normal\" text-anchor=\"middle\" x=\"954.660675955\" y=\"731.639095339\">1[1, 10]</tspan></text></g><g><rect fill=\"none\" height=\"60.0\" rx=\"20.0\" ry=\"20.0\" stroke=\"rgb(127,0,0)\" stroke-width=\"1px\" width=\"160.0\" x=\"828.304356469\" y=\"974.660675955\" /><text font-family=\"monospace\" font-size=\"20.0\" text-anchor=\"middle\" transform=\"translate(0,-10.0)\" x=\"908.304356469\" y=\"1004.66067596\"><tspan font-family=\"monospace\" font-size=\"20.0\" font-weight=\"normal\" text-anchor=\"middle\" x=\"908.304356469\" y=\"1004.66067596\">Init2</tspan><tspan font-family=\"monospace\" font-size=\"20.0\" font-weight=\"normal\" text-anchor=\"middle\" x=\"908.304356469\" y=\"1034.66067596\">2[2, 11]</tspan></text></g><g><rect fill=\"none\" height=\"60.0\" rx=\"20.0\" ry=\"20.0\" stroke=\"rgb(127,0,0)\" stroke-width=\"1px\" width=\"180.0\" x=\"611.948055897\" y=\"671.639062729\" /><text font-family=\"monospace\" font-size=\"20.0\" text-anchor=\"middle\" transform=\"translate(0,-10.0)\" x=\"701.948055897\" y=\"701.639062729\"><tspan font-family=\"monospace\" font-size=\"20.0\" font-weight=\"normal\" text-anchor=\"middle\" x=\"701.948055897\" y=\"701.639062729\">Process1</tspan><tspan font-family=\"monospace\" font-size=\"20.0\" font-weight=\"normal\" text-anchor=\"middle\" x=\"701.948055897\" y=\"731.639062729\">3[3, 12]</tspan></text></g><g><rect fill=\"none\" height=\"60.0\" rx=\"20.0\" ry=\"20.0\" stroke=\"rgb(127,0,0)\" stroke-width=\"1px\" width=\"180.0\" x=\"828.304368506\" y=\"298.617514723\" /><text font-family=\"monospace\" font-size=\"20.0\" text-anchor=\"middle\" transform=\"translate(0,-10.0)\" x=\"918.304368506\" y=\"328.617514723\"><tspan font-family=\"monospace\" font-size=\"20.0\" font-weight=\"normal\" text-anchor=\"middle\" x=\"918.304368506\" y=\"328.617514723\">Process2</tspan><tspan font-family=\"monospace\" font-size=\"20.0\" font-weight=\"normal\" text-anchor=\"middle\" x=\"918.304368506\" y=\"358.617514723\">4[4, 13]</tspan></text></g><g><rect fill=\"none\" height=\"60.0\" rx=\"20.0\" ry=\"20.0\" stroke=\"rgb(255,0,0)\" stroke-width=\"1px\" width=\"180.0\" x=\"432.712620059\" y=\"373.021580616\" /><text font-family=\"monospace\" font-size=\"20.0\" text-anchor=\"middle\" transform=\"translate(0,-10.0)\" x=\"522.712620059\" y=\"403.021580616\"><tspan font-family=\"monospace\" font-size=\"20.0\" font-weight=\"normal\" text-anchor=\"middle\" x=\"522.712620059\" y=\"403.021580616\">Init1</tspan><tspan font-family=\"monospace\" font-size=\"20.0\" font-weight=\"normal\" text-anchor=\"middle\" x=\"522.712620059\" y=\"433.021580616\">10[1, 10]</tspan></text></g><g><rect fill=\"none\" height=\"60.0\" rx=\"20.0\" ry=\"20.0\" stroke=\"rgb(255,0,0)\" stroke-width=\"1px\" width=\"180.0\" x=\"216.356300572\" y=\"746.043161232\" /><text font-family=\"monospace\" font-size=\"20.0\" text-anchor=\"middle\" transform=\"translate(0,-10.0)\" x=\"306.356300572\" y=\"776.043161232\"><tspan font-family=\"monospace\" font-size=\"20.0\" font-weight=\"normal\" text-anchor=\"middle\" x=\"306.356300572\" y=\"776.043161232\">Init2</tspan><tspan font-family=\"monospace\" font-size=\"20.0\" font-weight=\"normal\" text-anchor=\"middle\" x=\"306.356300572\" y=\"806.043161232\">11[2, 11]</tspan></text></g><g><rect fill=\"none\" height=\"60.0\" rx=\"20.0\" ry=\"20.0\" stroke=\"rgb(255,0,0)\" stroke-width=\"1px\" width=\"180.0\" x=\"10.0\" y=\"373.021548005\" /><text font-family=\"monospace\" font-size=\"20.0\" text-anchor=\"middle\" transform=\"translate(0,-10.0)\" x=\"100.0\" y=\"403.021548005\"><tspan font-family=\"monospace\" font-size=\"20.0\" font-weight=\"normal\" text-anchor=\"middle\" x=\"100.0\" y=\"403.021548005\">Process1</tspan><tspan font-family=\"monospace\" font-size=\"20.0\" font-weight=\"normal\" text-anchor=\"middle\" x=\"100.0\" y=\"433.021548005\">12[3, 12]</tspan></text></g><g><rect fill=\"none\" height=\"60.0\" rx=\"20.0\" ry=\"20.0\" stroke=\"rgb(255,0,0)\" stroke-width=\"1px\" width=\"180.0\" x=\"216.356312609\" y=\"10.0\" /><text font-family=\"monospace\" font-size=\"20.0\" text-anchor=\"middle\" transform=\"translate(0,-10.0)\" x=\"306.356312609\" y=\"40.0\"><tspan font-family=\"monospace\" font-size=\"20.0\" font-weight=\"normal\" text-anchor=\"middle\" x=\"306.356312609\" y=\"40.0\">Process2</tspan><tspan font-family=\"monospace\" font-size=\"20.0\" font-weight=\"normal\" text-anchor=\"middle\" x=\"306.356312609\" y=\"70.0\">13[4, 13]</tspan></text></g><g><path d=\"M 874.660675955 701.639095339 Q 853.982520941 701.639087187 833.304365926 701.639079034 Q 812.626210911 701.639070881 791.948055897 701.639062729\" fill=\"none\" marker-mid=\"url(#id5)\" stroke=\"black\" stroke-linecap=\"butt\" stroke-width=\"1px\" /><text font-family=\"monospace\" font-size=\"20.0\" text-anchor=\"middle\" transform=\"rotate(2.25896450843e-05,833.304365926,701.639079034) translate(0,-10.0)\" x=\"833.304365926\" y=\"701.639079034\"><tspan font-family=\"monospace\" font-size=\"20.0\" font-weight=\"normal\" text-anchor=\"middle\" x=\"833.304365926\" y=\"701.639079034\">a1</tspan></text></g><g><path d=\"M 954.660675955 671.639095339 Q 945.571599093 593.383700185 936.482522231 515.128305031 Q 927.393445368 436.872909877 918.304368506 358.617514723\" fill=\"none\" marker-mid=\"url(#id6)\" stroke=\"black\" stroke-linecap=\"butt\" stroke-width=\"1px\" /><text font-family=\"monospace\" font-size=\"20.0\" text-anchor=\"middle\" transform=\"rotate(83.374989531,936.482522231,515.128305031) translate(0,-10.0)\" x=\"936.482522231\" y=\"515.128305031\"><tspan font-family=\"monospace\" font-size=\"20.0\" font-weight=\"normal\" text-anchor=\"middle\" x=\"936.482522231\" y=\"515.128305031\">c, b1</tspan></text></g><g><path d=\"M 908.304356469 974.660675955 Q 879.215281326 906.405272649 850.126206183 838.149869342 Q 821.03713104 769.894466035 791.948055897 701.639062729\" fill=\"none\" marker-mid=\"url(#id7)\" stroke=\"black\" stroke-linecap=\"butt\" stroke-width=\"1px\" /><text font-family=\"monospace\" font-size=\"20.0\" text-anchor=\"middle\" transform=\"rotate(66.9172758551,850.126206183,838.149869342) translate(0,-10.0)\" x=\"850.126206183\" y=\"838.149869342\"><tspan font-family=\"monospace\" font-size=\"20.0\" font-weight=\"normal\" text-anchor=\"middle\" x=\"850.126206183\" y=\"838.149869342\">d</tspan></text></g><g><path d=\"M 908.304356469 974.660675955 Q 910.804359478 820.649885647 913.304362487 666.639095339 Q 915.804365497 512.628305031 918.304368506 358.617514723\" fill=\"none\" marker-mid=\"url(#id8)\" stroke=\"black\" stroke-linecap=\"butt\" stroke-width=\"1px\" /><text font-family=\"monospace\" font-size=\"20.0\" text-anchor=\"middle\" transform=\"rotate(90.9299805666,913.304362487,666.639095339) translate(0,-10.0)\" x=\"913.304362487\" y=\"666.639095339\"><tspan font-family=\"monospace\" font-size=\"20.0\" font-weight=\"normal\" text-anchor=\"middle\" x=\"913.304362487\" y=\"666.639095339\">e</tspan></text></g><g><path d=\"M 432.712620059 403.021580616 Q 372.034465044 403.021572463 311.356310029 403.021564311 Q 250.678155015 403.021556158 190.0 403.021548005\" fill=\"none\" marker-mid=\"url(#id9)\" stroke=\"black\" stroke-linecap=\"butt\" stroke-width=\"1px\" /><text font-family=\"monospace\" font-size=\"20.0\" text-anchor=\"middle\" transform=\"rotate(7.69819359903e-06,311.356310029,403.021564311) translate(0,-10.0)\" x=\"311.356310029\" y=\"403.021564311\"><tspan font-family=\"monospace\" font-size=\"20.0\" font-weight=\"normal\" text-anchor=\"middle\" x=\"311.356310029\" y=\"403.021564311\">a1</tspan></text></g><g><path d=\"M 522.712620059 373.021580616 Q 468.623543196 297.266185462 414.534466334 221.510790308 Q 360.445389472 145.755395154 306.356312609 70.0\" fill=\"none\" marker-mid=\"url(#id10)\" stroke=\"black\" stroke-linecap=\"butt\" stroke-width=\"1px\" /><text font-family=\"monospace\" font-size=\"20.0\" text-anchor=\"middle\" transform=\"rotate(54.4733013144,414.534466334,221.510790308) translate(0,-10.0)\" x=\"414.534466334\" y=\"221.510790308\"><tspan font-family=\"monospace\" font-size=\"20.0\" font-weight=\"normal\" text-anchor=\"middle\" x=\"414.534466334\" y=\"221.510790308\">c, b1</tspan></text></g><g><path d=\"M 306.356300572 746.043161232 Q 254.767225429 667.787757925 203.178150286 589.532354619 Q 151.589075143 511.276951312 100.0 433.021548005\" fill=\"none\" marker-mid=\"url(#id11)\" stroke=\"black\" stroke-linecap=\"butt\" stroke-width=\"1px\" /><text font-family=\"monospace\" font-size=\"20.0\" text-anchor=\"middle\" transform=\"rotate(56.6055401789,203.178150286,589.532354619) translate(0,-10.0)\" x=\"203.178150286\" y=\"589.532354619\"><tspan font-family=\"monospace\" font-size=\"20.0\" font-weight=\"normal\" text-anchor=\"middle\" x=\"203.178150286\" y=\"589.532354619\">d</tspan></text></g><g><path d=\"M 306.356300572 746.043161232 Q 306.356303581 577.032370924 306.356306591 408.021580616 Q 306.3563096 239.010790308 306.356312609 70.0\" fill=\"none\" marker-mid=\"url(#id12)\" stroke=\"black\" stroke-linecap=\"butt\" stroke-width=\"1px\" /><text font-family=\"monospace\" font-size=\"20.0\" text-anchor=\"middle\" transform=\"rotate(90.0000010202,306.356306591,408.021580616) translate(0,-10.0)\" x=\"306.356306591\" y=\"408.021580616\"><tspan font-family=\"monospace\" font-size=\"20.0\" font-weight=\"normal\" text-anchor=\"middle\" x=\"306.356306591\" y=\"408.021580616\">e</tspan></text></g></svg>"
       ],
       "text": [
        "<networkx.classes.digraph.DiGraph at 0x7fba23e868d0>"
       ]
      }
     ],
     "prompt_number": 16
    },
    {
     "cell_type": "code",
     "collapsed": false,
     "input": [
      "%history"
     ],
     "language": "python",
     "metadata": {},
     "outputs": [
      {
       "output_type": "stream",
       "stream": "stdout",
       "text": [
        "%%isolate nodename(Init1)  post(a1,c,b1,d)\n",
        "a1 = 10\n",
        "b1 = 20\n",
        "c = 30\n",
        "d = 90\n",
        "%%isolate nodename(Init2)  post(e,d)\n",
        "d = 40\n",
        "e = 50\n",
        "%%isolate nodename(Process1) pre(a1,d) \n",
        "print a1, d\n",
        "%%isolate nodename(Process2) pre(c,e,b1) \n",
        "print b1, c, e\n",
        "g = %dag\n",
        "i = %iso_debug\n",
        "g.prev\n",
        "%history\n",
        "import IPython\n",
        "ip = IPython.get_ipython()\n",
        "ip.history_manager.input_hist_raw[28]\n",
        "%%isolate nodename(Init1)  post(a1,c,b1,d)\n",
        "a1 = 10\n",
        "b1 = 20\n",
        "c = 30\n",
        "d = 90\n",
        "%%isolate nodename(Init2)  post(e,d)\n",
        "d = 40\n",
        "e = 50\n",
        "%%isolate nodename(Process1) pre(a1,d) \n",
        "print a1, d\n",
        "%%isolate nodename(Process2) pre(c,e,b1) \n",
        "print b1, c, e\n",
        "g = %dag\n",
        "i = %iso_debug\n",
        "g.prev\n",
        "%history\n"
       ]
      }
     ],
     "prompt_number": 17
    },
    {
     "cell_type": "code",
     "collapsed": false,
     "input": [
      "import IPython\n",
      "ip = IPython.get_ipython()\n",
      "ip.history_manager.input_hist_raw[28]"
     ],
     "language": "python",
     "metadata": {},
     "outputs": [
      {
       "ename": "IndexError",
       "evalue": "list index out of range",
       "output_type": "pyerr",
       "traceback": [
        "\u001b[1;31m---------------------------------------------------------------------------\u001b[0m\n\u001b[1;31mIndexError\u001b[0m                                Traceback (most recent call last)",
        "\u001b[1;32m<ipython-input-18-2943eedda31b>\u001b[0m in \u001b[0;36m<module>\u001b[1;34m()\u001b[0m\n\u001b[0;32m      1\u001b[0m \u001b[1;32mimport\u001b[0m \u001b[0mIPython\u001b[0m\u001b[1;33m\u001b[0m\u001b[0m\n\u001b[0;32m      2\u001b[0m \u001b[0mip\u001b[0m \u001b[1;33m=\u001b[0m \u001b[0mIPython\u001b[0m\u001b[1;33m.\u001b[0m\u001b[0mget_ipython\u001b[0m\u001b[1;33m(\u001b[0m\u001b[1;33m)\u001b[0m\u001b[1;33m\u001b[0m\u001b[0m\n\u001b[1;32m----> 3\u001b[1;33m \u001b[0mip\u001b[0m\u001b[1;33m.\u001b[0m\u001b[0mhistory_manager\u001b[0m\u001b[1;33m.\u001b[0m\u001b[0minput_hist_raw\u001b[0m\u001b[1;33m[\u001b[0m\u001b[1;36m28\u001b[0m\u001b[1;33m]\u001b[0m\u001b[1;33m\u001b[0m\u001b[0m\n\u001b[0m",
        "\u001b[1;31mIndexError\u001b[0m: list index out of range"
       ]
      }
     ],
     "prompt_number": 18
    },
    {
     "cell_type": "code",
     "collapsed": false,
     "input": [],
     "language": "python",
     "metadata": {},
     "outputs": []
    }
   ],
   "metadata": {}
  }
 ]
}