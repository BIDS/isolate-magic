{
 "metadata": {
  "name": "",
  "signature": "sha256:866a16c4c34ec3207517806f2da3f0b27ff636adbc28bde479b8ae0f0c1ef893"
 },
 "nbformat": 3,
 "nbformat_minor": 0,
 "worksheets": [
  {
   "cells": [
    {
     "cell_type": "markdown",
     "metadata": {},
     "source": [
      "We start by sepecifying that `%%isolate` will police inputs and outputs.\n",
      "\n",
      "\n",
      "In `strict` mode, if `post` or `pre` clause is specified and their content\n",
      "does not match what the cell actually does, an exception is raised."
     ]
    },
    {
     "cell_type": "code",
     "collapsed": false,
     "input": [
      "%isolatemode strict echo"
     ],
     "language": "python",
     "metadata": {},
     "outputs": [],
     "prompt_number": 16
    },
    {
     "cell_type": "markdown",
     "metadata": {},
     "source": [
      "We can ask isolate-magic to automatically detect the pre/post conditions by omitting the clauses.\n",
      "In this case no exception would ever be raised"
     ]
    },
    {
     "cell_type": "code",
     "collapsed": false,
     "input": [
      "%%isolate name(InitializeAuto)\n",
      "a = 10\n",
      "b = 10"
     ],
     "language": "python",
     "metadata": {},
     "outputs": [
      {
       "output_type": "stream",
       "stream": "stdout",
       "text": [
        "%%isolate nodename(InitializeAuto)  post(a,b)\n"
       ]
      }
     ],
     "prompt_number": 17
    },
    {
     "cell_type": "markdown",
     "metadata": {},
     "source": [
      "If a `post` clause is give, it must match the cell's side effects on the user namespace"
     ]
    },
    {
     "cell_type": "code",
     "collapsed": false,
     "input": [
      "%%isolate name(Initialize) post(a, b)\n",
      "a = 10\n",
      "b = 20"
     ],
     "language": "python",
     "metadata": {},
     "outputs": [
      {
       "output_type": "stream",
       "stream": "stdout",
       "text": [
        "%%isolate nodename(Initialize)  post(a,b)\n"
       ]
      }
     ],
     "prompt_number": 18
    },
    {
     "cell_type": "markdown",
     "metadata": {},
     "source": [
      "Now observe the PostConditionException, if 'a' is not propertly declared"
     ]
    },
    {
     "cell_type": "code",
     "collapsed": false,
     "input": [
      "%%isolate name(BadInitialize) post(b)\n",
      "a = 10\n",
      "b = 20"
     ],
     "language": "python",
     "metadata": {},
     "outputs": [
      {
       "output_type": "stream",
       "stream": "stdout",
       "text": [
        "%%isolate nodename(BadInitialize)  post(a,b)\n"
       ]
      },
      {
       "output_type": "stream",
       "stream": "stderr",
       "text": [
        "Post execution variables not defined in clause: a\n"
       ]
      }
     ],
     "prompt_number": 19
    },
    {
     "cell_type": "markdown",
     "metadata": {},
     "source": [
      "Cells without a %%isolate magic are ignored. Even if they modify a variable declared in another cell."
     ]
    },
    {
     "cell_type": "code",
     "collapsed": true,
     "input": [
      "%%isolate\n",
      "b"
     ],
     "language": "python",
     "metadata": {},
     "outputs": [
      {
       "metadata": {},
       "output_type": "pyout",
       "prompt_number": 20,
       "text": [
        "20"
       ]
      },
      {
       "output_type": "stream",
       "stream": "stdout",
       "text": [
        "%%isolate nodename(20) pre(b) \n"
       ]
      }
     ],
     "prompt_number": 20
    },
    {
     "cell_type": "markdown",
     "metadata": {},
     "source": [
      "If it wasn't obvious, libraries can be handled in the same way."
     ]
    },
    {
     "cell_type": "code",
     "collapsed": false,
     "input": [
      "%%isolate name(ImportModules) post(os)\n",
      "import os\n",
      "import os.path"
     ],
     "language": "python",
     "metadata": {},
     "outputs": [
      {
       "output_type": "stream",
       "stream": "stdout",
       "text": [
        "%%isolate nodename(ImportModules)  post(os)\n"
       ]
      }
     ],
     "prompt_number": 21
    },
    {
     "cell_type": "markdown",
     "metadata": {},
     "source": [
      "We see a  run a cell that access a variable (`b`) that not declared in `pre`;\n",
      "The cell has run in full. But we still see the `PreConditionError`"
     ]
    },
    {
     "cell_type": "code",
     "collapsed": false,
     "input": [
      "%%isolate name(Diagonistics) post(b) pre()\n",
      "try:\n",
      "    print(b)\n",
      "except NameError:\n",
      "    print 'A NameError is caught'\n",
      "finally:\n",
      "    b = 20"
     ],
     "language": "python",
     "metadata": {},
     "outputs": [
      {
       "output_type": "stream",
       "stream": "stdout",
       "text": [
        "A NameError is caught\n",
        "%%isolate nodename(Diagonistics)  post(b)\n"
       ]
      }
     ],
     "prompt_number": 22
    },
    {
     "cell_type": "markdown",
     "metadata": {},
     "source": [
      "If we don't export, the value in the top-level namespace is left as-is"
     ]
    },
    {
     "cell_type": "code",
     "collapsed": false,
     "input": [
      "%%isolate name(SetB)\n",
      "b = 10"
     ],
     "language": "python",
     "metadata": {},
     "outputs": [
      {
       "output_type": "stream",
       "stream": "stdout",
       "text": [
        "%%isolate nodename(SetB)  post(b)\n"
       ]
      }
     ],
     "prompt_number": 23
    },
    {
     "cell_type": "code",
     "collapsed": false,
     "input": [
      "%%isolate name(TestUntaintedNameSpace) post()\n",
      "b = 5"
     ],
     "language": "python",
     "metadata": {},
     "outputs": [
      {
       "output_type": "stream",
       "stream": "stdout",
       "text": [
        "%%isolate nodename(TestUntaintedNameSpace)  post(b)\n"
       ]
      },
      {
       "output_type": "stream",
       "stream": "stderr",
       "text": [
        "Post execution variables not defined in clause: b\n"
       ]
      }
     ],
     "prompt_number": 24
    },
    {
     "cell_type": "code",
     "collapsed": false,
     "input": [
      "%%isolate name(GetB)\n",
      "b"
     ],
     "language": "python",
     "metadata": {},
     "outputs": [
      {
       "metadata": {},
       "output_type": "pyout",
       "prompt_number": 25,
       "text": [
        "10"
       ]
      },
      {
       "output_type": "stream",
       "stream": "stdout",
       "text": [
        "%%isolate nodename(GetB) pre(b) \n"
       ]
      }
     ],
     "prompt_number": 25
    },
    {
     "cell_type": "code",
     "collapsed": false,
     "input": [
      "%%isolate name(Iterative) pre(a) post(a)\n",
      "a = a + 1"
     ],
     "language": "python",
     "metadata": {},
     "outputs": [
      {
       "output_type": "stream",
       "stream": "stdout",
       "text": [
        "%%isolate nodename(Iterative) pre(a) post(a)\n"
       ]
      }
     ],
     "prompt_number": 26
    },
    {
     "cell_type": "markdown",
     "metadata": {},
     "source": [
      "This produces a list of the cells, with inputs and outputs.\n",
      "The layout here sucks, but it shows the basis for something that could be improved."
     ]
    },
    {
     "cell_type": "code",
     "collapsed": false,
     "input": [
      "g = %dag\n",
      "g"
     ],
     "language": "python",
     "metadata": {},
     "outputs": [
      {
       "metadata": {},
       "output_type": "pyout",
       "prompt_number": 27,
       "svg": [
        "<svg baseProfile=\"full\" height=\"600px\" preserveAspectRatio=\"xMidYMid meet\" version=\"1.1\" viewBox=\"0,0,879.046815475,879.046815475\" width=\"600px\" xmlns=\"http://www.w3.org/2000/svg\" xmlns:ev=\"http://www.w3.org/2001/xml-events\" xmlns:xlink=\"http://www.w3.org/1999/xlink\"><defs><marker id=\"id4\" markerHeight=\"10.0\" markerUnits=\"userSpaceOnUse\" markerWidth=\"10.0\" orient=\"auto\" refX=\"5.0\" refY=\"5.0\" viewBox=\"0,0,10.0,10.0\"><polygon fill=\"black\" points=\"0,2.0 10.0,5.0 0,8.0\" stroke=\"none\" /></marker><marker id=\"id5\" markerHeight=\"10.0\" markerUnits=\"userSpaceOnUse\" markerWidth=\"10.0\" orient=\"auto\" refX=\"5.0\" refY=\"5.0\" viewBox=\"0,0,10.0,10.0\"><polygon fill=\"black\" points=\"0,2.0 10.0,5.0 0,8.0\" stroke=\"none\" /></marker><marker id=\"id6\" markerHeight=\"10.0\" markerUnits=\"userSpaceOnUse\" markerWidth=\"10.0\" orient=\"auto\" refX=\"5.0\" refY=\"5.0\" viewBox=\"0,0,10.0,10.0\"><polygon fill=\"black\" points=\"0,2.0 10.0,5.0 0,8.0\" stroke=\"none\" /></marker></defs><g><rect fill=\"none\" height=\"60.0\" rx=\"20.0\" ry=\"20.0\" stroke=\"rgb(255,0,0)\" stroke-width=\"1px\" width=\"80.0\" x=\"372.35115947\" y=\"10.0\" /><text font-family=\"monospace\" font-size=\"20.0\" text-anchor=\"middle\" transform=\"translate(0,-10.0)\" x=\"412.35115947\" y=\"40.0\"><tspan font-family=\"monospace\" font-size=\"20.0\" font-weight=\"bold\" text-anchor=\"middle\" x=\"412.35115947\" y=\"40.0\">5</tspan><tspan font-family=\"monospace\" font-size=\"20.0\" font-weight=\"normal\" text-anchor=\"middle\" x=\"412.35115947\" y=\"70.0\">5[5]</tspan></text></g><g><rect fill=\"none\" height=\"60.0\" rx=\"20.0\" ry=\"20.0\" stroke=\"rgb(255,0,0)\" stroke-width=\"1px\" width=\"280.0\" x=\"589.046815475\" y=\"203.456141888\" /><text font-family=\"monospace\" font-size=\"20.0\" text-anchor=\"middle\" transform=\"translate(0,-10.0)\" x=\"729.046815475\" y=\"233.456141888\"><tspan font-family=\"monospace\" font-size=\"20.0\" font-weight=\"bold\" text-anchor=\"middle\" x=\"729.046815475\" y=\"233.456141888\">BadInitialize</tspan><tspan font-family=\"monospace\" font-size=\"20.0\" font-weight=\"normal\" text-anchor=\"middle\" x=\"729.046815475\" y=\"263.456141888\">19[4, 19]</tspan></text></g><g><rect fill=\"none\" height=\"60.0\" rx=\"20.0\" ry=\"20.0\" stroke=\"rgb(255,0,0)\" stroke-width=\"1px\" width=\"120.0\" x=\"439.514606837\" y=\"203.456116272\" /><text font-family=\"monospace\" font-size=\"20.0\" text-anchor=\"middle\" transform=\"translate(0,-10.0)\" x=\"499.514606837\" y=\"233.456116272\"><tspan font-family=\"monospace\" font-size=\"20.0\" font-weight=\"bold\" text-anchor=\"middle\" x=\"499.514606837\" y=\"233.456116272\">20</tspan><tspan font-family=\"monospace\" font-size=\"20.0\" font-weight=\"normal\" text-anchor=\"middle\" x=\"499.514606837\" y=\"263.456116272\">20[20]</tspan></text></g><g><rect fill=\"none\" height=\"60.0\" rx=\"20.0\" ry=\"20.0\" stroke=\"rgb(255,0,0)\" stroke-width=\"1px\" width=\"460.0\" x=\"409.046815475\" y=\"809.046815475\" /><text font-family=\"monospace\" font-size=\"20.0\" text-anchor=\"middle\" transform=\"translate(0,-10.0)\" x=\"639.046815475\" y=\"839.046815475\"><tspan font-family=\"monospace\" font-size=\"20.0\" font-weight=\"bold\" text-anchor=\"middle\" x=\"639.046815475\" y=\"839.046815475\">TestUntaintedNameSpace</tspan><tspan font-family=\"monospace\" font-size=\"20.0\" font-weight=\"normal\" text-anchor=\"middle\" x=\"639.046815475\" y=\"869.046815475\">24[9, 24]</tspan></text></g><g><rect fill=\"none\" height=\"60.0\" rx=\"20.0\" ry=\"20.0\" stroke=\"rgb(255,0,0)\" stroke-width=\"1px\" width=\"200.0\" x=\"67.1634980548\" y=\"809.046815475\" /><text font-family=\"monospace\" font-size=\"20.0\" text-anchor=\"middle\" transform=\"translate(0,-10.0)\" x=\"167.163498055\" y=\"839.046815475\"><tspan font-family=\"monospace\" font-size=\"20.0\" font-weight=\"bold\" text-anchor=\"middle\" x=\"167.163498055\" y=\"839.046815475\">GetB</tspan><tspan font-family=\"monospace\" font-size=\"20.0\" font-weight=\"normal\" text-anchor=\"middle\" x=\"167.163498055\" y=\"869.046815475\">25[10, 25]</tspan></text></g><g><rect fill=\"none\" height=\"60.0\" rx=\"20.0\" ry=\"20.0\" stroke=\"rgb(255,0,0)\" stroke-width=\"1px\" width=\"200.0\" x=\"10.0\" y=\"675.590636582\" /><text font-family=\"monospace\" font-size=\"20.0\" text-anchor=\"middle\" transform=\"translate(0,-10.0)\" x=\"110.0\" y=\"705.590636582\"><tspan font-family=\"monospace\" font-size=\"20.0\" font-weight=\"bold\" text-anchor=\"middle\" x=\"110.0\" y=\"705.590636582\">Iterative</tspan><tspan font-family=\"monospace\" font-size=\"20.0\" font-weight=\"normal\" text-anchor=\"middle\" x=\"110.0\" y=\"735.590636582\">26[11, 26]</tspan></text></g><g><path d=\"M 589.046815475 233.456141888 Q 581.663763315 233.456135484 574.280711156 233.45612908 Q 566.897658996 233.456122676 559.514606837 233.456116272\" fill=\"none\" marker-mid=\"url(#id4)\" stroke=\"black\" stroke-linecap=\"butt\" stroke-width=\"1px\" /><text font-family=\"monospace\" font-size=\"20.0\" text-anchor=\"middle\" transform=\"rotate(4.96983592484e-05,574.280711156,233.45612908) translate(0,-10.0)\" x=\"574.280711156\" y=\"233.45612908\"><tspan font-family=\"monospace\" font-size=\"20.0\" font-weight=\"normal\" text-anchor=\"middle\" x=\"574.280711156\" y=\"233.45612908\">b</tspan></text></g><g><path d=\"M 409.046815475 839.046815475 Q 373.57598612 839.046815475 338.105156765 839.046815475 Q 302.63432741 839.046815475 267.163498055 839.046815475\" fill=\"none\" marker-mid=\"url(#id5)\" stroke=\"black\" stroke-linecap=\"butt\" stroke-width=\"1px\" /><text font-family=\"monospace\" font-size=\"20.0\" text-anchor=\"middle\" transform=\"rotate(360.0,338.105156765,839.046815475) translate(0,-10.0)\" x=\"338.105156765\" y=\"839.046815475\"><tspan font-family=\"monospace\" font-size=\"20.0\" font-weight=\"normal\" text-anchor=\"middle\" x=\"338.105156765\" y=\"839.046815475\">b</tspan></text></g><g><path d=\"M 110.0 735.590636582 Q 62.0121691547 804.7167394 37.0121691547 797.2167394 Q 12.0121691547 789.7167394 10.0 705.590636582\" fill=\"none\" marker-mid=\"url(#id6)\" stroke=\"black\" stroke-linecap=\"butt\" stroke-width=\"1px\" /><text font-family=\"monospace\" font-size=\"20.0\" text-anchor=\"middle\" transform=\"rotate(16.699244234,37.0121691547,797.2167394) translate(0,-10.0)\" x=\"37.0121691547\" y=\"797.2167394\"><tspan font-family=\"monospace\" font-size=\"20.0\" font-weight=\"normal\" text-anchor=\"middle\" x=\"37.0121691547\" y=\"797.2167394\">a</tspan></text></g></svg>"
       ],
       "text": [
        "<networkx.classes.digraph.DiGraph at 0x7f71b711add0>"
       ]
      }
     ],
     "prompt_number": 27
    },
    {
     "cell_type": "markdown",
     "metadata": {},
     "source": [
      "This is the beginnings of a debugging helper that I found useful."
     ]
    },
    {
     "cell_type": "code",
     "collapsed": false,
     "input": [
      "im = %iso_debug"
     ],
     "language": "python",
     "metadata": {},
     "outputs": [],
     "prompt_number": 28
    },
    {
     "cell_type": "code",
     "collapsed": false,
     "input": [
      "im.STRICT"
     ],
     "language": "python",
     "metadata": {},
     "outputs": [
      {
       "metadata": {},
       "output_type": "pyout",
       "prompt_number": 29,
       "text": [
        "9"
       ]
      }
     ],
     "prompt_number": 29
    },
    {
     "cell_type": "code",
     "collapsed": false,
     "input": [
      "%debug"
     ],
     "language": "python",
     "metadata": {},
     "outputs": [
      {
       "output_type": "stream",
       "stream": "stderr",
       "text": [
        "ERROR: No traceback has been produced, nothing to debug.\n"
       ]
      }
     ],
     "prompt_number": 30
    },
    {
     "cell_type": "code",
     "collapsed": false,
     "input": [],
     "language": "python",
     "metadata": {},
     "outputs": [],
     "prompt_number": 30
    }
   ],
   "metadata": {}
  }
 ]
}