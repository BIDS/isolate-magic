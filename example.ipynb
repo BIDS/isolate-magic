{
 "metadata": {
  "name": "",
  "signature": "sha256:9e951aca9d654fafbb7bbb80d7403cd05687f2151f8b886a03e5a8430b4ad350"
 },
 "nbformat": 3,
 "nbformat_minor": 0,
 "worksheets": [
  {
   "cells": [
    {
     "cell_type": "markdown",
     "metadata": {},
     "source": [
      "We start by sepecifying that `%%isolate` will police inputs and outputs.\n",
      "\n",
      "\n",
      "In `strict` mode, if `post` or `pre` clause is specified and their content\n",
      "does not match what the cell actually does, an exception is raised."
     ]
    },
    {
     "cell_type": "code",
     "collapsed": false,
     "input": [
      "%isolatemode strict echo"
     ],
     "language": "python",
     "metadata": {},
     "outputs": [],
     "prompt_number": 16
    },
    {
     "cell_type": "markdown",
     "metadata": {},
     "source": [
      "We can ask isolate-magic to automatically detect the pre/post conditions by omitting the clauses.\n",
      "In this case no exception would ever be raised"
     ]
    },
    {
     "cell_type": "code",
     "collapsed": false,
     "input": [
      "%%isolate name(InitializeAuto)\n",
      "a = 10\n",
      "b = 10"
     ],
     "language": "python",
     "metadata": {},
     "outputs": [
      {
       "output_type": "stream",
       "stream": "stdout",
       "text": [
        "%%isolate name(InitializeAuto)  post(a,b)\n"
       ]
      }
     ],
     "prompt_number": 17
    },
    {
     "cell_type": "markdown",
     "metadata": {},
     "source": [
      "If a `post` clause is give, it must match the cell's side effects on the user namespace"
     ]
    },
    {
     "cell_type": "code",
     "collapsed": false,
     "input": [
      "%%isolate name(Initialize) post(a, b)\n",
      "a = 10\n",
      "b = 20"
     ],
     "language": "python",
     "metadata": {},
     "outputs": [
      {
       "output_type": "stream",
       "stream": "stdout",
       "text": [
        "%%isolate name(Initialize)  post(a,b)\n"
       ]
      }
     ],
     "prompt_number": 18
    },
    {
     "cell_type": "markdown",
     "metadata": {},
     "source": [
      "Now observe the PostConditionException, if 'a' is not propertly declared"
     ]
    },
    {
     "cell_type": "code",
     "collapsed": false,
     "input": [
      "%%isolate name(BadInitialize) post(b)\n",
      "a = 10\n",
      "b = 20"
     ],
     "language": "python",
     "metadata": {},
     "outputs": [
      {
       "output_type": "stream",
       "stream": "stdout",
       "text": [
        "%%isolate name(BadInitialize)  post(a,b)\n"
       ]
      },
      {
       "output_type": "stream",
       "stream": "stderr",
       "text": [
        "Post execution variables not defined in clause: a\n"
       ]
      }
     ],
     "prompt_number": 19
    },
    {
     "cell_type": "markdown",
     "metadata": {},
     "source": [
      "Cells without a %%isolate magic are ignored. Even if they modify a variable declared in another cell."
     ]
    },
    {
     "cell_type": "code",
     "collapsed": true,
     "input": [
      "%%isolate\n",
      "b"
     ],
     "language": "python",
     "metadata": {},
     "outputs": [
      {
       "metadata": {},
       "output_type": "pyout",
       "prompt_number": 20,
       "text": [
        "20"
       ]
      },
      {
       "output_type": "stream",
       "stream": "stdout",
       "text": [
        "%%isolate name(20) pre(b) \n"
       ]
      }
     ],
     "prompt_number": 20
    },
    {
     "cell_type": "markdown",
     "metadata": {},
     "source": [
      "If it wasn't obvious, libraries can be handled in the same way."
     ]
    },
    {
     "cell_type": "code",
     "collapsed": false,
     "input": [
      "%%isolate name(ImportModules) post(os)\n",
      "import os\n",
      "import os.path"
     ],
     "language": "python",
     "metadata": {},
     "outputs": [
      {
       "output_type": "stream",
       "stream": "stdout",
       "text": [
        "%%isolate name(ImportModules)  post(os)\n"
       ]
      }
     ],
     "prompt_number": 21
    },
    {
     "cell_type": "markdown",
     "metadata": {},
     "source": [
      "We see a  run a cell that access a variable (`b`) that not declared in `pre`;\n",
      "The cell has run in full. But we still see the `PreConditionError`"
     ]
    },
    {
     "cell_type": "code",
     "collapsed": false,
     "input": [
      "%%isolate name(Diagonistics) post(b) pre()\n",
      "try:\n",
      "    print(b)\n",
      "except NameError:\n",
      "    print 'A NameError is caught'\n",
      "finally:\n",
      "    b = 20"
     ],
     "language": "python",
     "metadata": {},
     "outputs": [
      {
       "output_type": "stream",
       "stream": "stdout",
       "text": [
        "A NameError is caught\n",
        "%%isolate name(Diagonistics)  post(b)\n"
       ]
      }
     ],
     "prompt_number": 22
    },
    {
     "cell_type": "markdown",
     "metadata": {},
     "source": [
      "If we don't export, the value in the top-level namespace is left as-is"
     ]
    },
    {
     "cell_type": "code",
     "collapsed": false,
     "input": [
      "%%isolate name(SetB)\n",
      "b = 10"
     ],
     "language": "python",
     "metadata": {},
     "outputs": [
      {
       "output_type": "stream",
       "stream": "stdout",
       "text": [
        "%%isolate name(SetB)  post(b)\n"
       ]
      }
     ],
     "prompt_number": 23
    },
    {
     "cell_type": "code",
     "collapsed": false,
     "input": [
      "%%isolate name(TestUntaintedNameSpace) post()\n",
      "b = 5"
     ],
     "language": "python",
     "metadata": {},
     "outputs": [
      {
       "output_type": "stream",
       "stream": "stdout",
       "text": [
        "%%isolate name(TestUntaintedNameSpace)  post(b)\n"
       ]
      },
      {
       "output_type": "stream",
       "stream": "stderr",
       "text": [
        "Post execution variables not defined in clause: b\n"
       ]
      }
     ],
     "prompt_number": 24
    },
    {
     "cell_type": "code",
     "collapsed": false,
     "input": [
      "%%isolate name(GetB)\n",
      "b"
     ],
     "language": "python",
     "metadata": {},
     "outputs": [
      {
       "metadata": {},
       "output_type": "pyout",
       "prompt_number": 25,
       "text": [
        "10"
       ]
      },
      {
       "output_type": "stream",
       "stream": "stdout",
       "text": [
        "%%isolate name(GetB) pre(b) \n"
       ]
      }
     ],
     "prompt_number": 25
    },
    {
     "cell_type": "code",
     "collapsed": false,
     "input": [
      "%%isolate name(Iterative) pre(a) post(a)\n",
      "a = a + 1"
     ],
     "language": "python",
     "metadata": {},
     "outputs": [
      {
       "output_type": "stream",
       "stream": "stdout",
       "text": [
        "%%isolate name(Iterative) pre(a) post(a)\n"
       ]
      }
     ],
     "prompt_number": 26
    },
    {
     "cell_type": "markdown",
     "metadata": {},
     "source": [
      "This produces a list of the cells, with inputs and outputs.\n",
      "The layout here sucks, but it shows the basis for something that could be improved."
     ]
    },
    {
     "cell_type": "code",
     "collapsed": false,
     "input": [
      "g = %dag\n",
      "g"
     ],
     "language": "python",
     "metadata": {},
     "outputs": [
      {
       "metadata": {},
       "output_type": "pyout",
       "prompt_number": 27,
       "svg": [
        "<svg baseProfile=\"full\" height=\"400px\" preserveAspectRatio=\"xMidYMid meet\" version=\"1.1\" viewBox=\"0,0,1000.0,1000.0\" width=\"400px\" xmlns=\"http://www.w3.org/2000/svg\" xmlns:ev=\"http://www.w3.org/2001/xml-events\" xmlns:xlink=\"http://www.w3.org/1999/xlink\"><defs><marker id=\"id2\" markerHeight=\"20\" markerUnits=\"strokeWidth\" markerWidth=\"20\" orient=\"auto\" refX=\"1.0\" refY=\"0.5\" viewBox=\"0,0,1,1\"><polygon fill=\"black\" points=\"0,0.2 1,0.5 0,0.8\" stroke=\"none\" /></marker></defs><g><rect fill=\"none\" height=\"60.0\" rx=\"20.0\" ry=\"20.0\" stroke=\"black\" stroke-width=\"1px\" width=\"80.0\" x=\"910.0\" y=\"630.392534324\" /><text font-family=\"monospace\" font-size=\"20.0\" text-anchor=\"middle\" transform=\"translate(0,-10.0)\" x=\"950.0\" y=\"660.392534324\"><tspan font-family=\"monospace\" font-size=\"20.0\" font-weight=\"bold\" text-anchor=\"middle\" x=\"950.0\" y=\"660.392534324\">5 </tspan><tspan font-family=\"monospace\" font-size=\"20.0\" font-weight=\"normal\" text-anchor=\"middle\" x=\"950.0\" y=\"690.392534324\">5[5]</tspan></text></g><g><rect fill=\"none\" height=\"60.0\" rx=\"20.0\" ry=\"20.0\" stroke=\"black\" stroke-width=\"1px\" width=\"300.0\" x=\"41.4735867599\" y=\"708.208960876\" /><text font-family=\"monospace\" font-size=\"20.0\" text-anchor=\"middle\" transform=\"translate(0,-10.0)\" x=\"191.47358676\" y=\"738.208960876\"><tspan font-family=\"monospace\" font-size=\"20.0\" font-weight=\"bold\" text-anchor=\"middle\" x=\"191.47358676\" y=\"738.208960876\">InitializeAuto </tspan><tspan font-family=\"monospace\" font-size=\"20.0\" font-weight=\"normal\" text-anchor=\"middle\" x=\"191.47358676\" y=\"768.208960876\">17[2, 17]</tspan></text></g><g><rect fill=\"none\" height=\"60.0\" rx=\"20.0\" ry=\"20.0\" stroke=\"black\" stroke-width=\"1px\" width=\"220.0\" x=\"676.260088474\" y=\"930.0\" /><text font-family=\"monospace\" font-size=\"20.0\" text-anchor=\"middle\" transform=\"translate(0,-10.0)\" x=\"786.260088474\" y=\"960.0\"><tspan font-family=\"monospace\" font-size=\"20.0\" font-weight=\"bold\" text-anchor=\"middle\" x=\"786.260088474\" y=\"960.0\">Initialize </tspan><tspan font-family=\"monospace\" font-size=\"20.0\" font-weight=\"normal\" text-anchor=\"middle\" x=\"786.260088474\" y=\"990.0\">18[3, 18]</tspan></text></g><g><rect fill=\"none\" height=\"60.0\" rx=\"20.0\" ry=\"20.0\" stroke=\"black\" stroke-width=\"1px\" width=\"280.0\" x=\"710.0\" y=\"838.63684908\" /><text font-family=\"monospace\" font-size=\"20.0\" text-anchor=\"middle\" transform=\"translate(0,-10.0)\" x=\"850.0\" y=\"868.63684908\"><tspan font-family=\"monospace\" font-size=\"20.0\" font-weight=\"bold\" text-anchor=\"middle\" x=\"850.0\" y=\"868.63684908\">BadInitialize </tspan><tspan font-family=\"monospace\" font-size=\"20.0\" font-weight=\"normal\" text-anchor=\"middle\" x=\"850.0\" y=\"898.63684908\">19[4, 19]</tspan></text></g><g><rect fill=\"none\" height=\"60.0\" rx=\"20.0\" ry=\"20.0\" stroke=\"black\" stroke-width=\"1px\" width=\"120.0\" x=\"870.0\" y=\"453.320201089\" /><text font-family=\"monospace\" font-size=\"20.0\" text-anchor=\"middle\" transform=\"translate(0,-10.0)\" x=\"930.0\" y=\"483.320201089\"><tspan font-family=\"monospace\" font-size=\"20.0\" font-weight=\"bold\" text-anchor=\"middle\" x=\"930.0\" y=\"483.320201089\">20 </tspan><tspan font-family=\"monospace\" font-size=\"20.0\" font-weight=\"normal\" text-anchor=\"middle\" x=\"930.0\" y=\"513.320201089\">20[20]</tspan></text></g><g><rect fill=\"none\" height=\"60.0\" rx=\"20.0\" ry=\"20.0\" stroke=\"black\" stroke-width=\"1px\" width=\"280.0\" x=\"69.4191167584\" y=\"236.232995826\" /><text font-family=\"monospace\" font-size=\"20.0\" text-anchor=\"middle\" transform=\"translate(0,-10.0)\" x=\"209.419116758\" y=\"266.232995826\"><tspan font-family=\"monospace\" font-size=\"20.0\" font-weight=\"bold\" text-anchor=\"middle\" x=\"209.419116758\" y=\"266.232995826\">ImportModules </tspan><tspan font-family=\"monospace\" font-size=\"20.0\" font-weight=\"normal\" text-anchor=\"middle\" x=\"209.419116758\" y=\"296.232995826\">21[6, 21]</tspan></text></g><g><rect fill=\"none\" height=\"60.0\" rx=\"20.0\" ry=\"20.0\" stroke=\"black\" stroke-width=\"1px\" width=\"260.0\" x=\"730.0\" y=\"105.092210048\" /><text font-family=\"monospace\" font-size=\"20.0\" text-anchor=\"middle\" transform=\"translate(0,-10.0)\" x=\"860.0\" y=\"135.092210048\"><tspan font-family=\"monospace\" font-size=\"20.0\" font-weight=\"bold\" text-anchor=\"middle\" x=\"860.0\" y=\"135.092210048\">Diagonistics </tspan><tspan font-family=\"monospace\" font-size=\"20.0\" font-weight=\"normal\" text-anchor=\"middle\" x=\"860.0\" y=\"165.092210048\">22[7, 22]</tspan></text></g><g><rect fill=\"none\" height=\"60.0\" rx=\"20.0\" ry=\"20.0\" stroke=\"black\" stroke-width=\"1px\" width=\"180.0\" x=\"197.922647216\" y=\"904.476818566\" /><text font-family=\"monospace\" font-size=\"20.0\" text-anchor=\"middle\" transform=\"translate(0,-10.0)\" x=\"287.922647216\" y=\"934.476818566\"><tspan font-family=\"monospace\" font-size=\"20.0\" font-weight=\"bold\" text-anchor=\"middle\" x=\"287.922647216\" y=\"934.476818566\">SetB </tspan><tspan font-family=\"monospace\" font-size=\"20.0\" font-weight=\"normal\" text-anchor=\"middle\" x=\"287.922647216\" y=\"964.476818566\">23[8, 23]</tspan></text></g><g><rect fill=\"none\" height=\"60.0\" rx=\"20.0\" ry=\"20.0\" stroke=\"black\" stroke-width=\"1px\" width=\"460.0\" x=\"10.0\" y=\"463.178471916\" /><text font-family=\"monospace\" font-size=\"20.0\" text-anchor=\"middle\" transform=\"translate(0,-10.0)\" x=\"240.0\" y=\"493.178471916\"><tspan font-family=\"monospace\" font-size=\"20.0\" font-weight=\"bold\" text-anchor=\"middle\" x=\"240.0\" y=\"493.178471916\">TestUntaintedNameSpace </tspan><tspan font-family=\"monospace\" font-size=\"20.0\" font-weight=\"normal\" text-anchor=\"middle\" x=\"240.0\" y=\"523.178471916\">24[9, 24]</tspan></text></g><g><rect fill=\"none\" height=\"60.0\" rx=\"20.0\" ry=\"20.0\" stroke=\"black\" stroke-width=\"1px\" width=\"200.0\" x=\"200.029304124\" y=\"121.205221374\" /><text font-family=\"monospace\" font-size=\"20.0\" text-anchor=\"middle\" transform=\"translate(0,-10.0)\" x=\"300.029304124\" y=\"151.205221374\"><tspan font-family=\"monospace\" font-size=\"20.0\" font-weight=\"bold\" text-anchor=\"middle\" x=\"300.029304124\" y=\"151.205221374\">GetB </tspan><tspan font-family=\"monospace\" font-size=\"20.0\" font-weight=\"normal\" text-anchor=\"middle\" x=\"300.029304124\" y=\"181.205221374\">25[10, 25]</tspan></text></g><g><rect fill=\"none\" height=\"60.0\" rx=\"20.0\" ry=\"20.0\" stroke=\"black\" stroke-width=\"1px\" width=\"200.0\" x=\"530.37859439\" y=\"10.0\" /><text font-family=\"monospace\" font-size=\"20.0\" text-anchor=\"middle\" transform=\"translate(0,-10.0)\" x=\"630.37859439\" y=\"40.0\"><tspan font-family=\"monospace\" font-size=\"20.0\" font-weight=\"bold\" text-anchor=\"middle\" x=\"630.37859439\" y=\"40.0\">Iterative </tspan><tspan font-family=\"monospace\" font-size=\"20.0\" font-weight=\"normal\" text-anchor=\"middle\" x=\"630.37859439\" y=\"70.0\">26[11, 26]</tspan></text></g><g><rect fill=\"none\" height=\"60.0\" rx=\"20.0\" ry=\"20.0\" stroke=\"black\" stroke-width=\"1px\" width=\"420.0\" x=\"428.509292692\" y=\"930.0\" /><text font-family=\"monospace\" font-size=\"20.0\" text-anchor=\"middle\" transform=\"translate(0,-10.0)\" x=\"638.509292692\" y=\"960.0\"><tspan font-family=\"monospace\" font-size=\"20.0\" font-weight=\"bold\" text-anchor=\"middle\" x=\"638.509292692\" y=\"960.0\">#BrokenPreConditions </tspan><tspan font-family=\"monospace\" font-size=\"20.0\" font-weight=\"normal\" text-anchor=\"middle\" x=\"638.509292692\" y=\"990.0\">-1[]</tspan></text></g><g><path d=\"M 850.0 838.63684908 Q 870.0 757.307687082 890.0 675.978525085 Q 910.0 594.649363087 930.0 513.320201089\" fill=\"none\" marker-mid=\"url(#id2)\" stroke=\"black\" stroke-width=\"1px\" /><text font-family=\"monospace\" font-size=\"20.0\" text-anchor=\"middle\" transform=\"rotate(103.81570676,890.0,675.978525085) translate(0,-10.0)\" x=\"890.0\" y=\"675.978525085\"><tspan font-family=\"monospace\" font-size=\"20.0\" font-weight=\"bold\" text-anchor=\"middle\" x=\"890.0\" y=\"675.978525085\">b</tspan></text></g><g><path d=\"M 240.0 463.178471916 Q 255.007326031 392.68515928 270.014652062 322.191846645 Q 285.021978093 251.69853401 300.029304124 181.205221374\" fill=\"none\" marker-mid=\"url(#id2)\" stroke=\"black\" stroke-width=\"1px\" /><text font-family=\"monospace\" font-size=\"20.0\" text-anchor=\"middle\" transform=\"rotate(102.018281186,270.014652062,322.191846645) translate(0,-10.0)\" x=\"270.014652062\" y=\"322.191846645\"><tspan font-family=\"monospace\" font-size=\"20.0\" font-weight=\"bold\" text-anchor=\"middle\" x=\"270.014652062\" y=\"322.191846645\">b</tspan></text></g><g><path d=\"M 630.37859439 70.0 Q 593.884678967 100.813051409 568.884678967 93.3130514088 Q 543.884678967 85.8130514088 530.37859439 40.0\" fill=\"none\" marker-mid=\"url(#id2)\" stroke=\"black\" stroke-width=\"1px\" /><text font-family=\"monospace\" font-size=\"20.0\" text-anchor=\"middle\" transform=\"rotate(16.699244234,568.884678967,93.3130514088) translate(0,-10.0)\" x=\"568.884678967\" y=\"93.3130514088\"><tspan font-family=\"monospace\" font-size=\"20.0\" font-weight=\"bold\" text-anchor=\"middle\" x=\"568.884678967\" y=\"93.3130514088\">a</tspan></text></g></svg>"
       ],
       "text": [
        "<networkx.classes.digraph.DiGraph at 0x7f1cf40b97d0>"
       ]
      }
     ],
     "prompt_number": 27
    },
    {
     "cell_type": "markdown",
     "metadata": {},
     "source": [
      "This is the beginnings of a debugging helper that I found useful."
     ]
    },
    {
     "cell_type": "code",
     "collapsed": false,
     "input": [
      "im = %iso_debug"
     ],
     "language": "python",
     "metadata": {},
     "outputs": [],
     "prompt_number": 28
    },
    {
     "cell_type": "code",
     "collapsed": false,
     "input": [
      "im.STRICT"
     ],
     "language": "python",
     "metadata": {},
     "outputs": [
      {
       "metadata": {},
       "output_type": "pyout",
       "prompt_number": 29,
       "text": [
        "9"
       ]
      }
     ],
     "prompt_number": 29
    },
    {
     "cell_type": "code",
     "collapsed": false,
     "input": [
      "%debug"
     ],
     "language": "python",
     "metadata": {},
     "outputs": [
      {
       "output_type": "stream",
       "stream": "stderr",
       "text": [
        "ERROR: No traceback has been produced, nothing to debug.\n"
       ]
      }
     ],
     "prompt_number": 30
    },
    {
     "cell_type": "code",
     "collapsed": false,
     "input": [],
     "language": "python",
     "metadata": {},
     "outputs": [],
     "prompt_number": 30
    }
   ],
   "metadata": {}
  }
 ]
}