{
 "metadata": {
  "name": "",
  "signature": "sha256:056ff723083d774d5e2573252bf7f6d330a7332cc9a2cea9cf8ba08ec0aa7606"
 },
 "nbformat": 3,
 "nbformat_minor": 0,
 "worksheets": [
  {
   "cells": [
    {
     "cell_type": "markdown",
     "metadata": {},
     "source": [
      "We start by sepecifying that `%%isolate` will police inputs and outputs.\n",
      "\n",
      "\n",
      "In `strict` mode, if `post` or `pre` clause is specified and their content\n",
      "does not match what the cell actually does, an exception is raised."
     ]
    },
    {
     "cell_type": "code",
     "collapsed": false,
     "input": [
      "%isolatemode strict echo"
     ],
     "language": "python",
     "metadata": {},
     "outputs": [
      {
       "output_type": "stream",
       "stream": "stdout",
       "text": [
        "setting up user_ns to <class '__main__.ProtectedNamespace'>"
       ]
      }
     ],
     "prompt_number": 1
    },
    {
     "cell_type": "markdown",
     "metadata": {},
     "source": [
      "We can ask isolate-magic to automatically detect the pre/post conditions by omitting the clauses.\n",
      "In this case no exception would ever be raised"
     ]
    },
    {
     "cell_type": "code",
     "collapsed": false,
     "input": [
      "%%isolate name(InitializeAuto)\n",
      "a = 10\n",
      "b = 10"
     ],
     "language": "python",
     "metadata": {},
     "outputs": [
      {
       "output_type": "stream",
       "stream": "stdout",
       "text": [
        "%%isolate nodename(InitializeAuto)  post(a,b)\n"
       ]
      }
     ],
     "prompt_number": 2
    },
    {
     "cell_type": "markdown",
     "metadata": {},
     "source": [
      "If a `post` clause is give, it must match the cell's side effects on the user namespace"
     ]
    },
    {
     "cell_type": "code",
     "collapsed": false,
     "input": [
      "%%isolate name(Initialize) post(a, b)\n",
      "a = 10\n",
      "b = 20"
     ],
     "language": "python",
     "metadata": {},
     "outputs": [
      {
       "output_type": "stream",
       "stream": "stdout",
       "text": [
        "%%isolate nodename(Initialize)  post(a,b)\n"
       ]
      }
     ],
     "prompt_number": 3
    },
    {
     "cell_type": "markdown",
     "metadata": {},
     "source": [
      "Now observe the PostConditionException, if 'a' is not propertly declared"
     ]
    },
    {
     "cell_type": "code",
     "collapsed": false,
     "input": [
      "%%isolate name(BadInitialize) post(b)\n",
      "a = 10\n",
      "b = 20"
     ],
     "language": "python",
     "metadata": {},
     "outputs": [
      {
       "output_type": "stream",
       "stream": "stdout",
       "text": [
        "%%isolate nodename(BadInitialize)  post(a,b)\n"
       ]
      },
      {
       "output_type": "stream",
       "stream": "stderr",
       "text": [
        "Post execution variables not defined in clause: a\n"
       ]
      }
     ],
     "prompt_number": 4
    },
    {
     "cell_type": "markdown",
     "metadata": {},
     "source": [
      "Cells without a %%isolate magic are ignored. Even if they modify a variable declared in another cell."
     ]
    },
    {
     "cell_type": "code",
     "collapsed": true,
     "input": [
      "%%isolate\n",
      "b"
     ],
     "language": "python",
     "metadata": {},
     "outputs": [
      {
       "metadata": {},
       "output_type": "pyout",
       "prompt_number": 5,
       "text": [
        "20"
       ]
      },
      {
       "output_type": "stream",
       "stream": "stdout",
       "text": [
        "%%isolate nodename(5) pre(b) \n"
       ]
      }
     ],
     "prompt_number": 5
    },
    {
     "cell_type": "markdown",
     "metadata": {},
     "source": [
      "If it wasn't obvious, libraries can be handled in the same way."
     ]
    },
    {
     "cell_type": "code",
     "collapsed": false,
     "input": [
      "%%isolate name(ImportModules) post(os)\n",
      "import os\n",
      "import os.path"
     ],
     "language": "python",
     "metadata": {},
     "outputs": [
      {
       "output_type": "stream",
       "stream": "stdout",
       "text": [
        "%%isolate nodename(ImportModules)  post(os)\n"
       ]
      }
     ],
     "prompt_number": 6
    },
    {
     "cell_type": "markdown",
     "metadata": {},
     "source": [
      "We see a  run a cell that access a variable (`b`) that not declared in `pre`;\n",
      "The cell has run in full. But we still see the `PreConditionError`"
     ]
    },
    {
     "cell_type": "code",
     "collapsed": false,
     "input": [
      "%%isolate name(Diagonistics) post(b) pre()\n",
      "try:\n",
      "    print(b)\n",
      "except NameError:\n",
      "    print 'A NameError is caught'\n",
      "finally:\n",
      "    b = 20"
     ],
     "language": "python",
     "metadata": {},
     "outputs": [
      {
       "output_type": "stream",
       "stream": "stdout",
       "text": [
        "A NameError is caught\n",
        "%%isolate nodename(Diagonistics)  post(b)\n"
       ]
      }
     ],
     "prompt_number": 7
    },
    {
     "cell_type": "markdown",
     "metadata": {},
     "source": [
      "If we don't export, the value in the top-level namespace is left as-is"
     ]
    },
    {
     "cell_type": "code",
     "collapsed": false,
     "input": [
      "%%isolate name(SetB)\n",
      "b = 10"
     ],
     "language": "python",
     "metadata": {},
     "outputs": [
      {
       "output_type": "stream",
       "stream": "stdout",
       "text": [
        "%%isolate nodename(SetB)  post(b)\n"
       ]
      }
     ],
     "prompt_number": 8
    },
    {
     "cell_type": "code",
     "collapsed": false,
     "input": [
      "%%isolate name(TestUntaintedNameSpace) post()\n",
      "b = 5"
     ],
     "language": "python",
     "metadata": {},
     "outputs": [
      {
       "output_type": "stream",
       "stream": "stdout",
       "text": [
        "%%isolate nodename(TestUntaintedNameSpace)  post(b)\n"
       ]
      },
      {
       "output_type": "stream",
       "stream": "stderr",
       "text": [
        "Post execution variables not defined in clause: b\n"
       ]
      }
     ],
     "prompt_number": 9
    },
    {
     "cell_type": "code",
     "collapsed": false,
     "input": [
      "%%isolate name(GetB)\n",
      "b"
     ],
     "language": "python",
     "metadata": {},
     "outputs": [
      {
       "metadata": {},
       "output_type": "pyout",
       "prompt_number": 10,
       "text": [
        "10"
       ]
      },
      {
       "output_type": "stream",
       "stream": "stdout",
       "text": [
        "%%isolate nodename(GetB) pre(b) \n"
       ]
      }
     ],
     "prompt_number": 10
    },
    {
     "cell_type": "code",
     "collapsed": false,
     "input": [
      "%%isolate name(Iterative) pre(a) post(a)\n",
      "a = a + 1"
     ],
     "language": "python",
     "metadata": {},
     "outputs": [
      {
       "output_type": "stream",
       "stream": "stdout",
       "text": [
        "%%isolate nodename(Iterative) pre(a) post(a)\n"
       ]
      }
     ],
     "prompt_number": 11
    },
    {
     "cell_type": "markdown",
     "metadata": {},
     "source": [
      "This produces a list of the cells, with inputs and outputs.\n",
      "The layout here sucks, but it shows the basis for something that could be improved."
     ]
    },
    {
     "cell_type": "code",
     "collapsed": false,
     "input": [
      "g = %dag\n",
      "g"
     ],
     "language": "python",
     "metadata": {},
     "outputs": [
      {
       "metadata": {},
       "output_type": "pyout",
       "prompt_number": 12,
       "svg": [
        "<svg baseProfile=\"full\" height=\"600px\" preserveAspectRatio=\"xMidYMid meet\" version=\"1.1\" viewBox=\"0,0,787.958341321,787.958341321\" width=\"600px\" xmlns=\"http://www.w3.org/2000/svg\" xmlns:ev=\"http://www.w3.org/2001/xml-events\" xmlns:xlink=\"http://www.w3.org/1999/xlink\"><defs><marker id=\"id1\" markerHeight=\"10.0\" markerUnits=\"userSpaceOnUse\" markerWidth=\"10.0\" orient=\"auto\" refX=\"5.0\" refY=\"5.0\" viewBox=\"0,0,10.0,10.0\"><polygon fill=\"black\" points=\"0,2.0 10.0,5.0 0,8.0\" stroke=\"none\" /></marker><marker id=\"id2\" markerHeight=\"10.0\" markerUnits=\"userSpaceOnUse\" markerWidth=\"10.0\" orient=\"auto\" refX=\"5.0\" refY=\"5.0\" viewBox=\"0,0,10.0,10.0\"><polygon fill=\"black\" points=\"0,2.0 10.0,5.0 0,8.0\" stroke=\"none\" /></marker><marker id=\"id3\" markerHeight=\"10.0\" markerUnits=\"userSpaceOnUse\" markerWidth=\"10.0\" orient=\"auto\" refX=\"5.0\" refY=\"5.0\" viewBox=\"0,0,10.0,10.0\"><polygon fill=\"black\" points=\"0,2.0 10.0,5.0 0,8.0\" stroke=\"none\" /></marker></defs><g><rect fill=\"none\" height=\"60.0\" rx=\"20.0\" ry=\"20.0\" stroke=\"rgb(255,0,0)\" stroke-width=\"1px\" width=\"460.0\" x=\"317.958341321\" y=\"393.979170661\" /><text font-family=\"monospace\" font-size=\"20.0\" text-anchor=\"middle\" transform=\"translate(0,-10.0)\" x=\"547.958341321\" y=\"423.979170661\"><tspan font-family=\"monospace\" font-size=\"20.0\" font-weight=\"bold\" text-anchor=\"middle\" x=\"547.958341321\" y=\"423.979170661\">TestUntaintedNameSpace</tspan><tspan font-family=\"monospace\" font-size=\"20.0\" font-weight=\"normal\" text-anchor=\"middle\" x=\"547.958341321\" y=\"453.979170661\">9[9]</tspan></text></g><g><rect fill=\"none\" height=\"60.0\" rx=\"20.0\" ry=\"20.0\" stroke=\"rgb(255,0,0)\" stroke-width=\"1px\" width=\"120.0\" x=\"486.985002624\" y=\"717.958341321\" /><text font-family=\"monospace\" font-size=\"20.0\" text-anchor=\"middle\" transform=\"translate(0,-10.0)\" x=\"546.985002624\" y=\"747.958341321\"><tspan font-family=\"monospace\" font-size=\"20.0\" font-weight=\"bold\" text-anchor=\"middle\" x=\"546.985002624\" y=\"747.958341321\">GetB</tspan><tspan font-family=\"monospace\" font-size=\"20.0\" font-weight=\"normal\" text-anchor=\"middle\" x=\"546.985002624\" y=\"777.958341321\">10[10]</tspan></text></g><g><rect fill=\"none\" height=\"60.0\" rx=\"20.0\" ry=\"20.0\" stroke=\"rgb(255,0,0)\" stroke-width=\"1px\" width=\"200.0\" x=\"10.0\" y=\"637.471695456\" /><text font-family=\"monospace\" font-size=\"20.0\" text-anchor=\"middle\" transform=\"translate(0,-10.0)\" x=\"110.0\" y=\"667.471695456\"><tspan font-family=\"monospace\" font-size=\"20.0\" font-weight=\"bold\" text-anchor=\"middle\" x=\"110.0\" y=\"667.471695456\">Iterative</tspan><tspan font-family=\"monospace\" font-size=\"20.0\" font-weight=\"normal\" text-anchor=\"middle\" x=\"110.0\" y=\"697.471695456\">11[11]</tspan></text></g><g><rect fill=\"none\" height=\"60.0\" rx=\"20.0\" ry=\"20.0\" stroke=\"rgb(255,0,0)\" stroke-width=\"1px\" width=\"280.0\" x=\"10.0\" y=\"150.4865989\" /><text font-family=\"monospace\" font-size=\"20.0\" text-anchor=\"middle\" transform=\"translate(0,-10.0)\" x=\"150.0\" y=\"180.4865989\"><tspan font-family=\"monospace\" font-size=\"20.0\" font-weight=\"bold\" text-anchor=\"middle\" x=\"150.0\" y=\"180.4865989\">BadInitialize</tspan><tspan font-family=\"monospace\" font-size=\"20.0\" font-weight=\"normal\" text-anchor=\"middle\" x=\"150.0\" y=\"210.4865989\">4[4]</tspan></text></g><g><rect fill=\"none\" height=\"60.0\" rx=\"20.0\" ry=\"20.0\" stroke=\"rgb(255,0,0)\" stroke-width=\"1px\" width=\"80.0\" x=\"486.985096556\" y=\"10.0\" /><text font-family=\"monospace\" font-size=\"20.0\" text-anchor=\"middle\" transform=\"translate(0,-10.0)\" x=\"526.985096556\" y=\"40.0\"><tspan font-family=\"monospace\" font-size=\"20.0\" font-weight=\"bold\" text-anchor=\"middle\" x=\"526.985096556\" y=\"40.0\">5</tspan><tspan font-family=\"monospace\" font-size=\"20.0\" font-weight=\"normal\" text-anchor=\"middle\" x=\"526.985096556\" y=\"70.0\">5[5]</tspan></text></g><g><path d=\"M 547.958341321 453.979170661 Q 547.715006647 519.973963326 547.471671973 585.968755991 Q 547.228337298 651.963548656 546.985002624 717.958341321\" fill=\"none\" marker-mid=\"url(#id1)\" stroke=\"black\" stroke-linecap=\"butt\" stroke-width=\"1px\" /><text font-family=\"monospace\" font-size=\"20.0\" text-anchor=\"middle\" transform=\"rotate(270.21125889,547.471671973,585.968755991) translate(0,-10.0)\" x=\"547.471671973\" y=\"585.968755991\"><tspan font-family=\"monospace\" font-size=\"20.0\" font-weight=\"normal\" text-anchor=\"middle\" x=\"547.471671973\" y=\"585.968755991\">b</tspan></text></g><g><path d=\"M 110.0 697.471695456 Q 62.0121691547 766.597798273 37.0121691547 759.097798273 Q 12.0121691547 751.597798273 10.0 667.471695456\" fill=\"none\" marker-mid=\"url(#id2)\" stroke=\"black\" stroke-linecap=\"butt\" stroke-width=\"1px\" /><text font-family=\"monospace\" font-size=\"20.0\" text-anchor=\"middle\" transform=\"rotate(16.699244234,37.0121691547,759.097798273) translate(0,-10.0)\" x=\"37.0121691547\" y=\"759.097798273\"><tspan font-family=\"monospace\" font-size=\"20.0\" font-weight=\"normal\" text-anchor=\"middle\" x=\"37.0121691547\" y=\"759.097798273\">a</tspan></text></g><g><path d=\"M 290.0 180.4865989 Q 339.246274139 145.364949175 388.492548278 110.24329945 Q 437.738822417 75.1216497249 486.985096556 40.0\" fill=\"none\" marker-mid=\"url(#id3)\" stroke=\"black\" stroke-linecap=\"butt\" stroke-width=\"1px\" /><text font-family=\"monospace\" font-size=\"20.0\" text-anchor=\"middle\" transform=\"rotate(144.504145933,388.492548278,110.24329945) translate(0,-10.0)\" x=\"388.492548278\" y=\"110.24329945\"><tspan font-family=\"monospace\" font-size=\"20.0\" font-weight=\"normal\" text-anchor=\"middle\" x=\"388.492548278\" y=\"110.24329945\">b</tspan></text></g></svg>"
       ],
       "text": [
        "<networkx.classes.digraph.DiGraph at 0x7f0132263110>"
       ]
      }
     ],
     "prompt_number": 12
    },
    {
     "cell_type": "markdown",
     "metadata": {},
     "source": [
      "This is the beginnings of a debugging helper that I found useful."
     ]
    },
    {
     "cell_type": "code",
     "collapsed": false,
     "input": [
      "im = %iso_debug"
     ],
     "language": "python",
     "metadata": {},
     "outputs": [],
     "prompt_number": 13
    },
    {
     "cell_type": "code",
     "collapsed": false,
     "input": [
      "im.STRICT"
     ],
     "language": "python",
     "metadata": {},
     "outputs": [
      {
       "metadata": {},
       "output_type": "pyout",
       "prompt_number": 14,
       "text": [
        "9"
       ]
      }
     ],
     "prompt_number": 14
    },
    {
     "cell_type": "code",
     "collapsed": false,
     "input": [
      "%debug"
     ],
     "language": "python",
     "metadata": {},
     "outputs": [
      {
       "output_type": "stream",
       "stream": "stderr",
       "text": [
        "ERROR: No traceback has been produced, nothing to debug.\n"
       ]
      }
     ],
     "prompt_number": 15
    },
    {
     "cell_type": "code",
     "collapsed": false,
     "input": [],
     "language": "python",
     "metadata": {},
     "outputs": [],
     "prompt_number": 15
    }
   ],
   "metadata": {}
  }
 ]
}