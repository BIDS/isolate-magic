{
 "metadata": {
  "name": "",
  "signature": "sha256:d9e8896a7b1b6636dd2ee7802f7e5faa27834436d1287aa34e92197fd03a8c92"
 },
 "nbformat": 3,
 "nbformat_minor": 0,
 "worksheets": [
  {
   "cells": [
    {
     "cell_type": "code",
     "collapsed": false,
     "input": [
      "%%isolate post(@IMPORTANT_TEXT)\n",
      "\n",
      "!wget http://github.com/BIDS/isolate-magic/blob/master/README.md"
     ],
     "language": "python",
     "metadata": {},
     "outputs": [
      {
       "output_type": "stream",
       "stream": "stdout",
       "text": [
        "--2014-12-17 01:31:42--  http://github.com/BIDS/isolate-magic/blob/master/README.md\r\n",
        "Resolving github.com... 192.30.252.129\r\n",
        "Connecting to github.com|192.30.252.129|:80... connected.\r\n",
        "HTTP request sent, awaiting response... "
       ]
      },
      {
       "output_type": "stream",
       "stream": "stdout",
       "text": [
        "301 Moved Permanently\r\n",
        "Location: https://github.com/BIDS/isolate-magic/blob/master/README.md [following]\r\n",
        "--2014-12-17 01:31:42--  https://github.com/BIDS/isolate-magic/blob/master/README.md\r\n",
        "Connecting to github.com|192.30.252.129|:443... "
       ]
      },
      {
       "output_type": "stream",
       "stream": "stdout",
       "text": [
        "connected.\r\n",
        "HTTP request sent, awaiting response... "
       ]
      },
      {
       "output_type": "stream",
       "stream": "stdout",
       "text": [
        "200 OK\r\n",
        "Length: unspecified [text/html]\r\n",
        "Saving to: \u201cREADME.md.2\u201d\r\n",
        "\r\n",
        "\r",
        "    [<=>                                    ] 0           --.-K/s              \r",
        "    [ <=>                                   ] 27,826      --.-K/s   in 0.001s  \r\n",
        "\r\n",
        "2014-12-17 01:31:42 (33.2 MB/s) - \u201cREADME.md.2\u201d saved [27826]\r\n",
        "\r\n"
       ]
      }
     ],
     "prompt_number": 1
    },
    {
     "cell_type": "code",
     "collapsed": false,
     "input": [
      "%%isolate post(os)\n",
      "import os\n",
      "import os.path\n"
     ],
     "language": "python",
     "metadata": {},
     "outputs": [],
     "prompt_number": 3
    },
    {
     "cell_type": "code",
     "collapsed": false,
     "input": [
      "%%isolate pre(@IMPORTANT_TEXT, os)\n",
      "assert os.path.exists('README.md')"
     ],
     "language": "python",
     "metadata": {},
     "outputs": [],
     "prompt_number": 4
    },
    {
     "cell_type": "code",
     "collapsed": false,
     "input": [
      "%%isolate post(b)\n",
      "b = 10\n",
      "print b\n"
     ],
     "language": "python",
     "metadata": {},
     "outputs": [
      {
       "output_type": "stream",
       "stream": "stdout",
       "text": [
        "10\n"
       ]
      }
     ],
     "prompt_number": 7
    },
    {
     "cell_type": "code",
     "collapsed": false,
     "input": [],
     "language": "python",
     "metadata": {},
     "outputs": []
    }
   ],
   "metadata": {}
  }
 ]
}
